{
 "cells": [
  {
   "cell_type": "markdown",
   "metadata": {},
   "source": [
    "### Moises Quiroz Diaz\n",
    "G3"
   ]
  },
  {
   "cell_type": "markdown",
   "metadata": {},
   "source": [
    "### Desafío - Análisis lineal discriminante\n",
    "\n",
    "* Para poder realizar este desafío debes haber revisado la lectura y videos correspondiente a la unidad.\n",
    "* Crea una carpeta de trabajo y guarda todos los archivos correspondientes (notebook y csv).\n",
    "* Una vez terminado el desafío, comprime la carpeta y sube el .zip a la sección correspondiente.\n",
    "\n",
    "\n",
    "#### Descripción\n",
    "Trabajaremos con una base de datos sobre clientes morosos de un banco. Dentro de ésta se registran las siguientes observaciones:\n",
    "* default : Variable Binaria. Registra si el cliente entró en morosidad o no.\n",
    "* income : Ingreso promedio declarado por el cliente.\n",
    "* balance : total del sando en la cuenta de crédito.\n",
    "* student : Variable binaria. Registra si el cliente es estudiante o no."
   ]
  },
  {
   "cell_type": "markdown",
   "metadata": {},
   "source": [
    "### Ejercicio 1: Preparación de ambiente de trabajo\n",
    "* Importe los módulos básicos para el análisis de datos.\n",
    "* Importe las clases LabelEncoder , StandardScaler y LabelBinarizer de preprocessing\n",
    "* Importe las funciones train_test_split y cross_val_score de model_selection\n",
    "* Importe la función classification_report de metrics\n",
    "* Importe las clases LinearDiscriminantAnalysis y QuadraticDiscriminantAnalysis .\n",
    "* Agregue la base de datos en el ambiente de trabajo.\n",
    "* Inspeccione la distribución de cada atributo"
   ]
  },
  {
   "cell_type": "code",
   "execution_count": 1,
   "metadata": {},
   "outputs": [],
   "source": [
    "import pandas as pd\n",
    "import numpy as np\n",
    "import matplotlib.pyplot as plt\n",
    "import seaborn as sns\n",
    "import warnings"
   ]
  },
  {
   "cell_type": "code",
   "execution_count": 2,
   "metadata": {},
   "outputs": [],
   "source": [
    "from sklearn.preprocessing import LabelEncoder,StandardScaler, LabelBinarizer"
   ]
  },
  {
   "cell_type": "code",
   "execution_count": 3,
   "metadata": {},
   "outputs": [],
   "source": [
    "from sklearn.model_selection import train_test_split,cross_val_score"
   ]
  },
  {
   "cell_type": "code",
   "execution_count": 4,
   "metadata": {},
   "outputs": [],
   "source": [
    "from sklearn.metrics import classification_report"
   ]
  },
  {
   "cell_type": "code",
   "execution_count": 5,
   "metadata": {},
   "outputs": [],
   "source": [
    "from sklearn.discriminant_analysis import QuadraticDiscriminantAnalysis,LinearDiscriminantAnalysis"
   ]
  },
  {
   "cell_type": "code",
   "execution_count": 6,
   "metadata": {},
   "outputs": [
    {
     "data": {
      "text/html": [
       "<div>\n",
       "<style scoped>\n",
       "    .dataframe tbody tr th:only-of-type {\n",
       "        vertical-align: middle;\n",
       "    }\n",
       "\n",
       "    .dataframe tbody tr th {\n",
       "        vertical-align: top;\n",
       "    }\n",
       "\n",
       "    .dataframe thead th {\n",
       "        text-align: right;\n",
       "    }\n",
       "</style>\n",
       "<table border=\"1\" class=\"dataframe\">\n",
       "  <thead>\n",
       "    <tr style=\"text-align: right;\">\n",
       "      <th></th>\n",
       "      <th>default</th>\n",
       "      <th>student</th>\n",
       "      <th>balance</th>\n",
       "      <th>income</th>\n",
       "    </tr>\n",
       "    <tr>\n",
       "      <th>index</th>\n",
       "      <th></th>\n",
       "      <th></th>\n",
       "      <th></th>\n",
       "      <th></th>\n",
       "    </tr>\n",
       "  </thead>\n",
       "  <tbody>\n",
       "    <tr>\n",
       "      <th>1</th>\n",
       "      <td>No</td>\n",
       "      <td>No</td>\n",
       "      <td>729.526495</td>\n",
       "      <td>44361.625074</td>\n",
       "    </tr>\n",
       "    <tr>\n",
       "      <th>2</th>\n",
       "      <td>No</td>\n",
       "      <td>Yes</td>\n",
       "      <td>817.180407</td>\n",
       "      <td>12106.134700</td>\n",
       "    </tr>\n",
       "    <tr>\n",
       "      <th>3</th>\n",
       "      <td>No</td>\n",
       "      <td>No</td>\n",
       "      <td>1073.549164</td>\n",
       "      <td>31767.138947</td>\n",
       "    </tr>\n",
       "    <tr>\n",
       "      <th>4</th>\n",
       "      <td>No</td>\n",
       "      <td>No</td>\n",
       "      <td>529.250605</td>\n",
       "      <td>35704.493935</td>\n",
       "    </tr>\n",
       "    <tr>\n",
       "      <th>5</th>\n",
       "      <td>No</td>\n",
       "      <td>No</td>\n",
       "      <td>785.655883</td>\n",
       "      <td>38463.495879</td>\n",
       "    </tr>\n",
       "  </tbody>\n",
       "</table>\n",
       "</div>"
      ],
      "text/plain": [
       "      default student      balance        income\n",
       "index                                           \n",
       "1          No      No   729.526495  44361.625074\n",
       "2          No     Yes   817.180407  12106.134700\n",
       "3          No      No  1073.549164  31767.138947\n",
       "4          No      No   529.250605  35704.493935\n",
       "5          No      No   785.655883  38463.495879"
      ]
     },
     "execution_count": 6,
     "metadata": {},
     "output_type": "execute_result"
    }
   ],
   "source": [
    "df = pd.read_csv('default_credit.csv',index_col = 'index')\n",
    "df.head()"
   ]
  },
  {
   "cell_type": "markdown",
   "metadata": {},
   "source": [
    "Primero se hace un analisis de la cantidad de las variables categoricas"
   ]
  },
  {
   "cell_type": "code",
   "execution_count": 7,
   "metadata": {},
   "outputs": [
    {
     "data": {
      "text/plain": [
       "No     9667\n",
       "Yes     333\n",
       "Name: default, dtype: int64"
      ]
     },
     "execution_count": 7,
     "metadata": {},
     "output_type": "execute_result"
    }
   ],
   "source": [
    "df.default.value_counts()"
   ]
  },
  {
   "cell_type": "code",
   "execution_count": 8,
   "metadata": {},
   "outputs": [
    {
     "data": {
      "text/plain": [
       "No     7056\n",
       "Yes    2944\n",
       "Name: student, dtype: int64"
      ]
     },
     "execution_count": 8,
     "metadata": {},
     "output_type": "execute_result"
    }
   ],
   "source": [
    "df.student.value_counts()"
   ]
  },
  {
   "cell_type": "markdown",
   "metadata": {},
   "source": [
    "Se procede a generar una serie de graficos para ver como es que se comportan las variables"
   ]
  },
  {
   "cell_type": "code",
   "execution_count": 9,
   "metadata": {},
   "outputs": [
    {
     "data": {
      "image/png": "[encoded data removed]",
      "text/plain": [
       "<Figure size 360x360 with 1 Axes>"
      ]
     },
     "metadata": {
      "needs_background": "light"
     },
     "output_type": "display_data"
    }
   ],
   "source": [
    "sns.catplot(x=\"default\", y=\"balance\", data=df);"
   ]
  },
  {
   "cell_type": "code",
   "execution_count": 10,
   "metadata": {},
   "outputs": [
    {
     "data": {
      "image/png": "[encoded data removed]",
      "text/plain": [
       "<Figure size 360x360 with 1 Axes>"
      ]
     },
     "metadata": {
      "needs_background": "light"
     },
     "output_type": "display_data"
    }
   ],
   "source": [
    "sns.catplot(x=\"student\", y=\"income\", data=df);"
   ]
  },
  {
   "cell_type": "markdown",
   "metadata": {},
   "source": [
    "Aqui se puede ver que las personas no estudiantes ganan mas dinero promedio"
   ]
  },
  {
   "cell_type": "code",
   "execution_count": 11,
   "metadata": {},
   "outputs": [
    {
     "data": {
      "image/png": "[encoded data removed]",
      "text/plain": [
       "<Figure size 413.359x360 with 1 Axes>"
      ]
     },
     "metadata": {
      "needs_background": "light"
     },
     "output_type": "display_data"
    }
   ],
   "source": [
    "sns.catplot(x=\"default\", y=\"balance\", hue=\"student\", kind=\"box\", data=df);"
   ]
  },
  {
   "cell_type": "code",
   "execution_count": 12,
   "metadata": {},
   "outputs": [
    {
     "data": {
      "image/png": "[encoded data removed]",
      "text/plain": [
       "<Figure size 413.359x360 with 1 Axes>"
      ]
     },
     "metadata": {
      "needs_background": "light"
     },
     "output_type": "display_data"
    }
   ],
   "source": [
    "sns.catplot(x=\"default\", y=\"income\", hue=\"student\", kind=\"box\", data=df);"
   ]
  },
  {
   "cell_type": "code",
   "execution_count": 13,
   "metadata": {},
   "outputs": [
    {
     "data": {
      "text/plain": [
       "default\n",
       "No     AxesSubplot(0.125,0.125;0.775x0.755)\n",
       "Yes    AxesSubplot(0.125,0.125;0.775x0.755)\n",
       "Name: balance, dtype: object"
      ]
     },
     "execution_count": 13,
     "metadata": {},
     "output_type": "execute_result"
    },
    {
     "data": {
      "image/png": "[encoded data removed]",
      "text/plain": [
       "<Figure size 432x288 with 1 Axes>"
      ]
     },
     "metadata": {
      "needs_background": "light"
     },
     "output_type": "display_data"
    }
   ],
   "source": [
    "df.groupby('default').balance.plot(kind='kde')"
   ]
  },
  {
   "cell_type": "markdown",
   "metadata": {},
   "source": [
    "### Ejercicio 2: Modelo base\n",
    "* Recuerde que los modelos de sklearn no soportan datos que no sean numéricos. Transforme los atributos pertinentes con LabelEncoder .\n",
    "* Genere muestras de validación y entrenamiento, reservando un 33% de los datos como validación.\n",
    "* Genere un modelo con LinearDiscriminantAnalysis sin modificar los hiperparámetros.\n",
    "* Genere métricas de evaluación utilizando classification_report .\n",
    "* Comente sobre cuál es el desempeño del modelo en cada clase, así como en general."
   ]
  },
  {
   "cell_type": "code",
   "execution_count": 14,
   "metadata": {},
   "outputs": [],
   "source": [
    "df['default'] = LabelEncoder().fit_transform(df['default'])"
   ]
  },
  {
   "cell_type": "code",
   "execution_count": 15,
   "metadata": {},
   "outputs": [
    {
     "data": {
      "text/plain": [
       "0    9667\n",
       "1     333\n",
       "Name: default, dtype: int64"
      ]
     },
     "execution_count": 15,
     "metadata": {},
     "output_type": "execute_result"
    }
   ],
   "source": [
    "df.default.value_counts() # 'No' corresponde al valor 0"
   ]
  },
  {
   "cell_type": "code",
   "execution_count": 16,
   "metadata": {},
   "outputs": [
    {
     "data": {
      "text/plain": [
       "0    7056\n",
       "1    2944\n",
       "Name: student, dtype: int64"
      ]
     },
     "execution_count": 16,
     "metadata": {},
     "output_type": "execute_result"
    }
   ],
   "source": [
    "df['student'] = LabelEncoder().fit_transform(df['student'])\n",
    "df.student.value_counts()"
   ]
  },
  {
   "cell_type": "code",
   "execution_count": 17,
   "metadata": {},
   "outputs": [
    {
     "data": {
      "text/html": [
       "<div>\n",
       "<style scoped>\n",
       "    .dataframe tbody tr th:only-of-type {\n",
       "        vertical-align: middle;\n",
       "    }\n",
       "\n",
       "    .dataframe tbody tr th {\n",
       "        vertical-align: top;\n",
       "    }\n",
       "\n",
       "    .dataframe thead th {\n",
       "        text-align: right;\n",
       "    }\n",
       "</style>\n",
       "<table border=\"1\" class=\"dataframe\">\n",
       "  <thead>\n",
       "    <tr style=\"text-align: right;\">\n",
       "      <th></th>\n",
       "      <th>default</th>\n",
       "      <th>student</th>\n",
       "      <th>balance</th>\n",
       "      <th>income</th>\n",
       "    </tr>\n",
       "    <tr>\n",
       "      <th>index</th>\n",
       "      <th></th>\n",
       "      <th></th>\n",
       "      <th></th>\n",
       "      <th></th>\n",
       "    </tr>\n",
       "  </thead>\n",
       "  <tbody>\n",
       "    <tr>\n",
       "      <th>1</th>\n",
       "      <td>0</td>\n",
       "      <td>0</td>\n",
       "      <td>729.526495</td>\n",
       "      <td>44361.625074</td>\n",
       "    </tr>\n",
       "    <tr>\n",
       "      <th>2</th>\n",
       "      <td>0</td>\n",
       "      <td>1</td>\n",
       "      <td>817.180407</td>\n",
       "      <td>12106.134700</td>\n",
       "    </tr>\n",
       "    <tr>\n",
       "      <th>3</th>\n",
       "      <td>0</td>\n",
       "      <td>0</td>\n",
       "      <td>1073.549164</td>\n",
       "      <td>31767.138947</td>\n",
       "    </tr>\n",
       "    <tr>\n",
       "      <th>4</th>\n",
       "      <td>0</td>\n",
       "      <td>0</td>\n",
       "      <td>529.250605</td>\n",
       "      <td>35704.493935</td>\n",
       "    </tr>\n",
       "    <tr>\n",
       "      <th>5</th>\n",
       "      <td>0</td>\n",
       "      <td>0</td>\n",
       "      <td>785.655883</td>\n",
       "      <td>38463.495879</td>\n",
       "    </tr>\n",
       "  </tbody>\n",
       "</table>\n",
       "</div>"
      ],
      "text/plain": [
       "       default  student      balance        income\n",
       "index                                             \n",
       "1            0        0   729.526495  44361.625074\n",
       "2            0        1   817.180407  12106.134700\n",
       "3            0        0  1073.549164  31767.138947\n",
       "4            0        0   529.250605  35704.493935\n",
       "5            0        0   785.655883  38463.495879"
      ]
     },
     "execution_count": 17,
     "metadata": {},
     "output_type": "execute_result"
    }
   ],
   "source": [
    "df.head()"
   ]
  },
  {
   "cell_type": "code",
   "execution_count": 18,
   "metadata": {},
   "outputs": [
    {
     "data": {
      "text/plain": [
       "Index(['student', 'balance', 'income'], dtype='object')"
      ]
     },
     "execution_count": 18,
     "metadata": {},
     "output_type": "execute_result"
    }
   ],
   "source": [
    "df.columns[1:]"
   ]
  },
  {
   "cell_type": "code",
   "execution_count": 19,
   "metadata": {},
   "outputs": [],
   "source": [
    "X_train, X_test, y_train,y_test = train_test_split(df[df.columns[1:]],df['default'],test_size=.33,random_state=11238)\n",
    "                                                      "
   ]
  },
  {
   "cell_type": "code",
   "execution_count": 20,
   "metadata": {},
   "outputs": [
    {
     "data": {
      "text/plain": [
       "LinearDiscriminantAnalysis(n_components=None, priors=None, shrinkage=None,\n",
       "                           solver='svd', store_covariance=False, tol=0.0001)"
      ]
     },
     "execution_count": 20,
     "metadata": {},
     "output_type": "execute_result"
    }
   ],
   "source": [
    "lda_model = LinearDiscriminantAnalysis()\n",
    "lda_model.fit(X_train,y_train)"
   ]
  },
  {
   "cell_type": "code",
   "execution_count": 21,
   "metadata": {},
   "outputs": [],
   "source": [
    "lda_class_pred = lda_model.predict(X_test)"
   ]
  },
  {
   "cell_type": "code",
   "execution_count": 22,
   "metadata": {},
   "outputs": [
    {
     "name": "stdout",
     "output_type": "stream",
     "text": [
      "              precision    recall  f1-score   support\n",
      "\n",
      "           0       0.97      1.00      0.99      3186\n",
      "           1       0.72      0.25      0.38       114\n",
      "\n",
      "    accuracy                           0.97      3300\n",
      "   macro avg       0.85      0.63      0.68      3300\n",
      "weighted avg       0.97      0.97      0.96      3300\n",
      "\n"
     ]
    }
   ],
   "source": [
    "print(classification_report(y_test,lda_class_pred))"
   ]
  },
  {
   "cell_type": "code",
   "execution_count": 23,
   "metadata": {},
   "outputs": [
    {
     "data": {
      "text/plain": [
       "<matplotlib.axes._subplots.AxesSubplot at 0x1a19076be0>"
      ]
     },
     "execution_count": 23,
     "metadata": {},
     "output_type": "execute_result"
    },
    {
     "data": {
      "image/png": "[encoded data removed]",
      "text/plain": [
       "<Figure size 432x288 with 1 Axes>"
      ]
     },
     "metadata": {
      "needs_background": "light"
     },
     "output_type": "display_data"
    }
   ],
   "source": [
    "from sklearn.metrics import confusion_matrix\n",
    "cnf = confusion_matrix(y_test,lda_class_pred)/len(y_test)\n",
    "target_label = ['No','Si']\n",
    "sns.heatmap(cnf,annot=True,fmt='.1%',cbar=False,cmap='Blues',\n",
    "    xticklabels=target_label,yticklabels=target_label)"
   ]
  },
  {
   "cell_type": "markdown",
   "metadata": {},
   "source": [
    "Con las metricas observadas se puede notar que el modelo tienen un accuracy bastante alto, pero esto debido a que la data se encuentra tan poblada de valores 'No' que al etiquetar a las mayorias de las predicciones con esta etiqueta en la mayoria de los casos le acierta, asi que si bien es un accuracy alto, se piensa que no es un buen modelo de generalizacion"
   ]
  },
  {
   "cell_type": "markdown",
   "metadata": {},
   "source": [
    "### Ejercicio 3: Refactorización 1 - información a priori\n",
    "* Dado que trabajamos con modelos generativos, podemos incluír información exógena. Para este caso agregaremos dos distribuciones:\n",
    "    * Asumamos que hay un 50/50 de morosos y no morosos.\n",
    "    * Asumamos que hay un 60/40 de morosos y no morosos.\n",
    "* Por cada modelo, reporte las métricas de clasificación."
   ]
  },
  {
   "cell_type": "code",
   "execution_count": 26,
   "metadata": {},
   "outputs": [
    {
     "name": "stdout",
     "output_type": "stream",
     "text": [
      "              precision    recall  f1-score   support\n",
      "\n",
      "           0       1.00      0.84      0.91      3186\n",
      "           1       0.17      0.92      0.29       114\n",
      "\n",
      "    accuracy                           0.84      3300\n",
      "   macro avg       0.58      0.88      0.60      3300\n",
      "weighted avg       0.97      0.84      0.89      3300\n",
      "\n"
     ]
    },
    {
     "data": {
      "text/plain": [
       "<matplotlib.axes._subplots.AxesSubplot at 0x1a197de4a8>"
      ]
     },
     "execution_count": 26,
     "metadata": {},
     "output_type": "execute_result"
    },
    {
     "data": {
      "image/png": "[encoded data removed]",
      "text/plain": [
       "<Figure size 432x288 with 1 Axes>"
      ]
     },
     "metadata": {
      "needs_background": "light"
     },
     "output_type": "display_data"
    }
   ],
   "source": [
    "lda_model = LinearDiscriminantAnalysis(priors=[0.5, 0.5])\n",
    "lda_model.fit(X_train,y_train)\n",
    "lda_class_pred = lda_model.predict(X_test)\n",
    "print(classification_report(y_test,lda_class_pred))\n",
    "cnf = confusion_matrix(y_test,lda_class_pred)/len(y_test)\n",
    "target_label = ['No','Si']\n",
    "sns.heatmap(cnf,annot=True,fmt='.1%',cbar=False,cmap='Blues',\n",
    "    xticklabels=target_label,yticklabels=target_label)"
   ]
  },
  {
   "cell_type": "code",
   "execution_count": 28,
   "metadata": {},
   "outputs": [
    {
     "name": "stdout",
     "output_type": "stream",
     "text": [
      "              precision    recall  f1-score   support\n",
      "\n",
      "           0       1.00      0.79      0.88      3186\n",
      "           1       0.14      0.96      0.24       114\n",
      "\n",
      "    accuracy                           0.79      3300\n",
      "   macro avg       0.57      0.87      0.56      3300\n",
      "weighted avg       0.97      0.79      0.86      3300\n",
      "\n"
     ]
    },
    {
     "data": {
      "text/plain": [
       "<matplotlib.axes._subplots.AxesSubplot at 0x1a1945fcc0>"
      ]
     },
     "execution_count": 28,
     "metadata": {},
     "output_type": "execute_result"
    },
    {
     "data": {
      "image/png": "[encoded data removed]",
      "text/plain": [
       "<Figure size 432x288 with 1 Axes>"
      ]
     },
     "metadata": {
      "needs_background": "light"
     },
     "output_type": "display_data"
    }
   ],
   "source": [
    "lda_model = LinearDiscriminantAnalysis(priors=[0.4, 0.6])\n",
    "lda_model.fit(X_train,y_train)\n",
    "lda_class_pred = lda_model.predict(X_test)\n",
    "print(classification_report(y_test,lda_class_pred))\n",
    "cnf = confusion_matrix(y_test,lda_class_pred)/len(y_test)\n",
    "target_label = ['No','Si']\n",
    "sns.heatmap(cnf,annot=True,fmt='.1%',cbar=False,cmap='Blues',\n",
    "    xticklabels=target_label,yticklabels=target_label)"
   ]
  },
  {
   "cell_type": "markdown",
   "metadata": {},
   "source": [
    "### Ejercicio 4: Refactorización 2 - oversampling\n",
    "Digresión: Synthetic Over(Under)Sampling\n",
    "\n",
    "* Por lo general podemos intentar aliviar el problema del desbalance de clases mediante la ponderación dentro del algoritmo. Otra alternativa es el muestreo con reemplazo dentro de los conjuntos de entrenamiento. Estos métodos clásicos se conocen como Oversampling cuando repetimos registros aleatorios de la clase minoritaria, y Undersampling cuando eliminamos aleatoriamente registros de la clase mayoritaria.\n",
    "* Un contratiempo de estos métodos clásicos es que pueden replicar información sesgada que afecte el desempeño de generalización del modelo. Si los datos son malos, estaremos replicando estas fallas.\n",
    "* Otra solución es generar ejemplos de entrenamiento sintéticos mediante el entrenamiento de ejemplos de la clase minoritaria. A grandes rasgos la solución funciona de la siguiente forma: \n",
    "    * En función a un subconjunto de datos correspondientes a la case minoritaria, entrenamos algún modelo no supervisado o generativo como Naive Bayes, KMeans o KNearestNeighbors para generar representaciones sintéticas de los datos en el espacio de atributos de la clase específica mediante \n",
    "    \n",
    "    $\\mathbf{x}_{nuevoEjemplo} = \\mathbf{x}_{i} + \\lambda (\\mathbf{x}_{zi} - \\mathbf{x}_{i})$ \n",
    "    \n",
    "    donde \n",
    "    $\\mathbf{x}_{zi}$ \n",
    "    es un ejemplo de entrenamiento de la clase minoritaria y $\\lambda$ es un parámetro de interpolación aleatorio $\\lambda \\sim \\textsf{Uniforme}(0, 1)$.\n",
    "    \n",
    "    \n",
    "* Uno de los problemas más graves de esta base de datos, es el fuerte desbalance entre clases. Ahora generaremos observaciones sintéticas mediante SMOTE (Synthetic Minority Oversampling Technique). Para ello, debemos agregar el paquete a nuestro ambiente virtual. En nuestro terminal agregamos conda install -c conda-forge imbalanced-learn. Incorpore SMOTE en el ambiente de trabajo con la siguiente sintáxis from imblearn.over_sampling import SMOTE.\n",
    "\n",
    "* Para implementar oversampling, debemos generar nuevos objetos que representan nuestra muestra de entrenamiento incrementada artificialmente. Para ello implemente la siguiente sintáxis:\n",
    "\n",
    "```python\n",
    "from imblearn.over_sampling import SMOTE\n",
    "# Instanciamos la clase\n",
    "oversampler = SMOTE(random_state=11238, ratio='minority')\n",
    "# generamos el eversampling de la matriz de entrenamiento y\n",
    "X_train_oversamp, y_train_oversamp = oversampler.fit_sample(X_train, y_train)\n",
    "```\n",
    "\n",
    "* Vuelva a entrenar el modelo con los datos aumentados de forma artificial y comente sobre su desempeño."
   ]
  },
  {
   "cell_type": "code",
   "execution_count": 30,
   "metadata": {},
   "outputs": [
    {
     "name": "stderr",
     "output_type": "stream",
     "text": [
      "Using TensorFlow backend.\n"
     ]
    },
    {
     "name": "stdout",
     "output_type": "stream",
     "text": [
      "              precision    recall  f1-score   support\n",
      "\n",
      "           0       1.00      0.84      0.91      3186\n",
      "           1       0.17      0.92      0.29       114\n",
      "\n",
      "    accuracy                           0.84      3300\n",
      "   macro avg       0.58      0.88      0.60      3300\n",
      "weighted avg       0.97      0.84      0.89      3300\n",
      "\n"
     ]
    },
    {
     "data": {
      "text/plain": [
       "<matplotlib.axes._subplots.AxesSubplot at 0x1a3a701668>"
      ]
     },
     "execution_count": 30,
     "metadata": {},
     "output_type": "execute_result"
    },
    {
     "data": {
      "image/png": "[encoded data removed]",
      "text/plain": [
       "<Figure size 432x288 with 1 Axes>"
      ]
     },
     "metadata": {
      "needs_background": "light"
     },
     "output_type": "display_data"
    }
   ],
   "source": [
    "from imblearn.over_sampling import SMOTE\n",
    "\n",
    "oversampler = SMOTE(random_state=11238, ratio='minority')\n",
    "\n",
    "X_train_oversamp, y_train_oversamp = oversampler.fit_sample(X_train, y_train)\n",
    "\n",
    "\n",
    "lda_model = LinearDiscriminantAnalysis()\n",
    "lda_model.fit(X_train_oversamp,y_train_oversamp)\n",
    "lda_class_pred = lda_model.predict(X_test)\n",
    "print(classification_report(y_test,lda_class_pred))\n",
    "cnf = confusion_matrix(y_test,lda_class_pred)/len(y_test)\n",
    "target_label = ['No','Si']\n",
    "sns.heatmap(cnf,annot=True,fmt='.1%',cbar=False,cmap='Blues',\n",
    "    xticklabels=target_label,yticklabels=target_label)"
   ]
  },
  {
   "cell_type": "markdown",
   "metadata": {},
   "source": [
    "### Ejercicio 5: Refactorización 3 - QDA\n",
    "\n",
    "* Por último, implemente un modelo QuadraticDiscriminantAnalysis con los datos aumentados artificialmente. Genere las métricas de desempeño.\n",
    "* Comente a grandes rasgos sobre el mejor modelo en su capacidad predictiva."
   ]
  },
  {
   "cell_type": "code",
   "execution_count": 32,
   "metadata": {},
   "outputs": [
    {
     "name": "stdout",
     "output_type": "stream",
     "text": [
      "              precision    recall  f1-score   support\n",
      "\n",
      "           0       1.00      0.84      0.91      3186\n",
      "           1       0.17      0.92      0.29       114\n",
      "\n",
      "    accuracy                           0.84      3300\n",
      "   macro avg       0.58      0.88      0.60      3300\n",
      "weighted avg       0.97      0.84      0.89      3300\n",
      "\n"
     ]
    },
    {
     "data": {
      "text/plain": [
       "<matplotlib.axes._subplots.AxesSubplot at 0x1a3ac99240>"
      ]
     },
     "execution_count": 32,
     "metadata": {},
     "output_type": "execute_result"
    },
    {
     "data": {
      "image/png": "[encoded data removed]",
      "text/plain": [
       "<Figure size 432x288 with 1 Axes>"
      ]
     },
     "metadata": {
      "needs_background": "light"
     },
     "output_type": "display_data"
    }
   ],
   "source": [
    "qda_model = QuadraticDiscriminantAnalysis()\n",
    "qda_model.fit(X_train_oversamp,y_train_oversamp)\n",
    "qda_class_pred = lda_model.predict(X_test)\n",
    "print(classification_report(y_test,qda_class_pred))\n",
    "cnf = confusion_matrix(y_test,qda_class_pred)/len(y_test)\n",
    "target_label = ['No','Si']\n",
    "sns.heatmap(cnf,annot=True,fmt='.1%',cbar=False,cmap='Blues',\n",
    "    xticklabels=target_label,yticklabels=target_label)"
   ]
  },
  {
   "cell_type": "markdown",
   "metadata": {},
   "source": [
    "En perspectiva el accuracy de los modelos al refactorizarlos disminuyo, pero esto se puede interpretar con que ahora posee una mejor cualidad de generalizar datos, pero bajo el enunciado del \"mejor modelo para predecir\" ese seria el 1 ya que tiene un mejor rendimiento. Pero se interpreta como que los mejores modelos para implementear en casos generales son los con data aumentada."
   ]
  },
  {
   "cell_type": "code",
   "execution_count": null,
   "metadata": {},
   "outputs": [],
   "source": []
  }
 ],
 "metadata": {
  "hide_input": false,
  "kernelspec": {
   "display_name": "Python 3",
   "language": "python",
   "name": "python3"
  },
  "language_info": {
   "codemirror_mode": {
    "name": "ipython",
    "version": 3
   },
   "file_extension": ".py",
   "mimetype": "text/x-python",
   "name": "python",
   "nbconvert_exporter": "python",
   "pygments_lexer": "ipython3",
   "version": "3.6.8"
  }
 },
 "nbformat": 4,
 "nbformat_minor": 2
}
