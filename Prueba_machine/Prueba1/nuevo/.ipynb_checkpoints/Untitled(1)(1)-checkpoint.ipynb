{
 "cells": [
  {
   "cell_type": "markdown",
   "metadata": {},
   "source": [
    "# Gabriel:\n",
    "    Para evaluar el desempeño de los modelos haz lo siguiente:\n",
    "    Ejecuta las importaciones del Notebook y las funciones cambiar_de_a_poco y counterizar\n",
    "    Lee tu dataframe\n",
    "    Aplica la función cambiar_de_a_poco\n",
    "    Importa los dos modelos\n",
    "    Evalúa los modelos dándoles como conjunto de X's , la función counterizar.\n",
    "    "
   ]
  },
  {
   "cell_type": "markdown",
   "metadata": {},
   "source": [
    "##### IMPORTAR LOS MODELOS DE LA SGTE MANERA:"
   ]
  },
  {
   "cell_type": "code",
   "execution_count": 1,
   "metadata": {},
   "outputs": [
    {
     "name": "stderr",
     "output_type": "stream",
     "text": [
      "/Users/moisesquiroz/anaconda3/lib/python3.6/site-packages/sklearn/base.py:306: UserWarning: Trying to unpickle estimator BernoulliNB from version 0.21.2 when using version 0.21.1. This might lead to breaking code or invalid results. Use at your own risk.\n",
      "  UserWarning)\n",
      "/Users/moisesquiroz/anaconda3/lib/python3.6/site-packages/sklearn/base.py:306: UserWarning: Trying to unpickle estimator LogisticRegression from version 0.21.2 when using version 0.21.1. This might lead to breaking code or invalid results. Use at your own risk.\n",
      "  UserWarning)\n"
     ]
    }
   ],
   "source": [
    "import pickle\n",
    "\n",
    "modelo_cargado = pickle.load(open(\"Bayes_MJpR.sav\", \"rb\"))\n",
    "\n",
    "modelo_cargado2 = pickle.load(open(\"Reglog_MJpR.sav\", \"rb\"))"
   ]
  },
  {
   "cell_type": "markdown",
   "metadata": {},
   "source": [
    "# El objetivo general de esta prueba es alcanzar el mejor desempeño posible para clasificar si un tweet es positivo o negativo.\n",
    "## Para medir el desempeño, se evaluará con un conjunto de datos del cuál no tendrán acceso. De esta manera evitaremos que los modelos aprendan información sobre el conjunto de validación.\n",
    "### Crea una carpeta de trabajo y guarda todos los archivos correspondientes (notebook, archivos auxiliares y csv). Una vez terminada la prueba, comprime la carpeta y sube el .zip a la sección correspondiente.\n"
   ]
  },
  {
   "cell_type": "code",
   "execution_count": 2,
   "metadata": {},
   "outputs": [
    {
     "name": "stderr",
     "output_type": "stream",
     "text": [
      "[nltk_data] Downloading package stopwords to\n",
      "[nltk_data]     /Users/moisesquiroz/nltk_data...\n",
      "[nltk_data]   Package stopwords is already up-to-date!\n",
      "[nltk_data] Downloading package wordnet to\n",
      "[nltk_data]     /Users/moisesquiroz/nltk_data...\n",
      "[nltk_data]   Package wordnet is already up-to-date!\n"
     ]
    }
   ],
   "source": [
    "import numpy as np\n",
    "import pandas as pd\n",
    "import matplotlib.pyplot as plt\n",
    "import seaborn as sns\n",
    "from sklearn.feature_extraction.text import CountVectorizer\n",
    "from sklearn.pipeline import Pipeline\n",
    "from sklearn.model_selection import train_test_split\n",
    "from sklearn.metrics import classification_report\n",
    "from sklearn.model_selection import GridSearchCV, train_test_split\n",
    "import random\n",
    "import nltk\n",
    "from nltk.corpus import stopwords\n",
    "nltk.download('stopwords')\n",
    "stap = stopwords.words(\"english\")\n",
    "nltk.download('wordnet')\n",
    "from nltk.stem.wordnet import WordNetLemmatizer\n",
    "lmtzr = WordNetLemmatizer()\n",
    "from nltk.stem.lancaster import LancasterStemmer\n",
    "st = LancasterStemmer()\n",
    "from sklearn.pipeline import Pipeline\n",
    "from sklearn.linear_model import LogisticRegression\n",
    "from sklearn.naive_bayes import BernoulliNB\n",
    "from sklearn.tree import DecisionTreeClassifier\n",
    "from sklearn.svm import SVC\n",
    "from sklearn.ensemble import RandomForestClassifier\n",
    "import re\n",
    "from sklearn.ensemble import AdaBoostClassifier, GradientBoostingClassifier\n",
    "import pickle"
   ]
  },
  {
   "cell_type": "code",
   "execution_count": 3,
   "metadata": {},
   "outputs": [],
   "source": [
    "import string"
   ]
  },
  {
   "cell_type": "code",
   "execution_count": 4,
   "metadata": {},
   "outputs": [
    {
     "name": "stdout",
     "output_type": "stream",
     "text": [
      "showing info https://raw.githubusercontent.com/nltk/nltk_data/gh-pages/index.xml\n"
     ]
    },
    {
     "data": {
      "text/plain": [
       "True"
      ]
     },
     "execution_count": 4,
     "metadata": {},
     "output_type": "execute_result"
    }
   ],
   "source": [
    "import nltk\n",
    "nltk.download()\n",
    "\n",
    "#Descargar wordnet desde la pestaña all packages"
   ]
  },
  {
   "cell_type": "markdown",
   "metadata": {},
   "source": [
    "# 1.-Generar un análisis exploratorio sobre los datos contenidos en el DataFrame, considerando palabras más comunes y distribución de las clases en el vector objetivo. "
   ]
  },
  {
   "cell_type": "markdown",
   "metadata": {},
   "source": [
    "LO QUE HAREMOS, SERÁ CREAR MODELOS DE REGRESIÓN LOGÍSTICA, BAYES, ARBOLES DE DECISIÓN, RANDOMFORESTCLASS, SVM, Adaboost Y Gradiente BUSCANDO LOS MEJORES HIPERPARÁMETROS CON GRIDSEARCH. "
   ]
  },
  {
   "cell_type": "code",
   "execution_count": 5,
   "metadata": {},
   "outputs": [
    {
     "name": "stdout",
     "output_type": "stream",
     "text": [
      "Ingrese nombre archivo aqui: training_tweets.csv\n"
     ]
    }
   ],
   "source": [
    "nombre_archivo= input(\"Ingrese nombre archivo aqui: \")"
   ]
  },
  {
   "cell_type": "code",
   "execution_count": 6,
   "metadata": {},
   "outputs": [],
   "source": [
    "df = pd.read_csv(nombre_archivo).drop(columns=[\"Unnamed: 0\"])"
   ]
  },
  {
   "cell_type": "markdown",
   "metadata": {},
   "source": [
    "##### 3. Preparación del vector objetivo y las matrices de entrenamiento y validación:\n"
   ]
  },
  {
   "cell_type": "code",
   "execution_count": 11,
   "metadata": {},
   "outputs": [],
   "source": [
    "def cambiar_de_a_poco(Dataframe, col):\n",
    "    \"\"\"\n",
    "    La funcion toma la columna de textos 'col' y mediante regex quita las palabras comunes del ingles, lo transforma\n",
    "    a minuscula, quita urls, Usuarios de twitter, hashtags, puntuacion y dobles espacios. Finalmente lemantiza el texto\n",
    "    \n",
    "    \"\"\"\n",
    "    from nltk.corpus import stopwords\n",
    "    stap = stopwords.words(\"english\")\n",
    "    Dataframe['sentiment'] = Dataframe['sentiment'].map({'love':1,'worry':-1,'happiness':1,'fun':1,'hate':-1,'sadness':-1,'empty':-1,'relief':1,'surprise':1,'enthusiasm':1,'boredom':-1,'anger':-1})\n",
    "    Dataframe[col] = Dataframe[col].apply(lambda x: ' '.join([word for word in x.split() if word not in (stap)])) #Saca stopwords\n",
    "    Dataframe[col] = Dataframe[col].apply(lambda x: ' '. join([word.lower() for word in x.split()])) #minúsculas\n",
    "    Dataframe[col] = pd.Series(map(lambda x: re.sub(\"((www\\.[^\\s]+)|(https?://[^\\s]+))\", \"\", x), Dataframe[col])) #Convierte url's \n",
    "    Dataframe[col] = pd.Series(map(lambda x: re.sub(\"@[^\\s]+\", \"\", x), Dataframe[col])) #Elimina usuarios\n",
    "    Dataframe[col] = pd.Series(map(lambda x: re.sub(r\"#([^\\s]+)\", r\"\\1\", x), Dataframe[col])) #Saca los Hashtags\n",
    "    Dataframe[col] = pd.Series(map(lambda x: re.sub('[\\s]+', ' ', x), Dataframe[col]))  #Elimina dobles espacios\n",
    "    Dataframe[col] = pd.Series(map(lambda x: \"\".join([char for char in x if char not in string.punctuation]), Dataframe[col])) #Eliminar puntuación\n",
    "    Dataframe[col] = pd.Series(map(lambda x: \"\".join([char for char in x if char not in string.punctuation]), Dataframe[col])) #Eliminar puntuación\n",
    "    Dataframe[col] = Dataframe[col].apply(lambda x: ' '. join([lmtzr.lemmatize(word) for word in x.split()])) #Generaliza palabras\n",
    "    df2 = Dataframe.drop(index=Dataframe[Dataframe.sentiment.isna()].index)\n",
    "    return df2\n"
   ]
  },
  {
   "cell_type": "code",
   "execution_count": 12,
   "metadata": {},
   "outputs": [
    {
     "data": {
      "text/html": [
       "<div>\n",
       "<style scoped>\n",
       "    .dataframe tbody tr th:only-of-type {\n",
       "        vertical-align: middle;\n",
       "    }\n",
       "\n",
       "    .dataframe tbody tr th {\n",
       "        vertical-align: top;\n",
       "    }\n",
       "\n",
       "    .dataframe thead th {\n",
       "        text-align: right;\n",
       "    }\n",
       "</style>\n",
       "<table border=\"1\" class=\"dataframe\">\n",
       "  <thead>\n",
       "    <tr style=\"text-align: right;\">\n",
       "      <th></th>\n",
       "      <th>content</th>\n",
       "      <th>sentiment</th>\n",
       "    </tr>\n",
       "  </thead>\n",
       "  <tbody>\n",
       "    <tr>\n",
       "      <th>0</th>\n",
       "      <td>happy mama day mother</td>\n",
       "      <td>1.0</td>\n",
       "    </tr>\n",
       "    <tr>\n",
       "      <th>1</th>\n",
       "      <td>i lost please help find good home</td>\n",
       "      <td>-1.0</td>\n",
       "    </tr>\n",
       "    <tr>\n",
       "      <th>2</th>\n",
       "      <td>yes yes i am networking whore fullestand girl ...</td>\n",
       "      <td>1.0</td>\n",
       "    </tr>\n",
       "    <tr>\n",
       "      <th>4</th>\n",
       "      <td>microeconomics project ihate subject amp besid...</td>\n",
       "      <td>-1.0</td>\n",
       "    </tr>\n",
       "    <tr>\n",
       "      <th>6</th>\n",
       "      <td>first thought bar life meant partying nonstop ...</td>\n",
       "      <td>1.0</td>\n",
       "    </tr>\n",
       "  </tbody>\n",
       "</table>\n",
       "</div>"
      ],
      "text/plain": [
       "                                             content  sentiment\n",
       "0                              happy mama day mother        1.0\n",
       "1                  i lost please help find good home       -1.0\n",
       "2  yes yes i am networking whore fullestand girl ...        1.0\n",
       "4  microeconomics project ihate subject amp besid...       -1.0\n",
       "6  first thought bar life meant partying nonstop ...        1.0"
      ]
     },
     "execution_count": 12,
     "metadata": {},
     "output_type": "execute_result"
    }
   ],
   "source": [
    "df = cambiar_de_a_poco(df, \"content\")\n",
    "df.head()"
   ]
  },
  {
   "cell_type": "code",
   "execution_count": 13,
   "metadata": {},
   "outputs": [],
   "source": [
    "def counterizar(DataFrame, colname):\n",
    "    countvec = CountVectorizer(stop_words=stap, lowercase=True)\n",
    "    countvec_fit = countvec.fit_transform(DataFrame[colname])\n",
    "    return countvec_fit"
   ]
  },
  {
   "cell_type": "code",
   "execution_count": 14,
   "metadata": {},
   "outputs": [
    {
     "name": "stdout",
     "output_type": "stream",
     "text": [
      "              precision    recall  f1-score   support\n",
      "\n",
      "        -1.0    0.81192   0.84171   0.82655     12022\n",
      "         1.0    0.82834   0.79665   0.81219     11527\n",
      "\n",
      "    accuracy                        0.81965     23549\n",
      "   macro avg    0.82013   0.81918   0.81937     23549\n",
      "weighted avg    0.81996   0.81965   0.81952     23549\n",
      "\n"
     ]
    }
   ],
   "source": [
    "print(classification_report(df[\"sentiment\"],modelo_cargado.predict(counterizar(df,\"content\")),digits=5))"
   ]
  },
  {
   "cell_type": "code",
   "execution_count": 15,
   "metadata": {},
   "outputs": [
    {
     "name": "stdout",
     "output_type": "stream",
     "text": [
      "              precision    recall  f1-score   support\n",
      "\n",
      "        -1.0    0.78865   0.80236   0.79545     12022\n",
      "         1.0    0.79007   0.77574   0.78284     11527\n",
      "\n",
      "    accuracy                        0.78933     23549\n",
      "   macro avg    0.78936   0.78905   0.78914     23549\n",
      "weighted avg    0.78935   0.78933   0.78928     23549\n",
      "\n"
     ]
    }
   ],
   "source": [
    "print(classification_report(df[\"sentiment\"],modelo_cargado2.predict(counterizar(df,\"content\")),digits=5))"
   ]
  }
 ],
 "metadata": {
  "kernelspec": {
   "display_name": "Python 3",
   "language": "python",
   "name": "python3"
  },
  "language_info": {
   "codemirror_mode": {
    "name": "ipython",
    "version": 3
   },
   "file_extension": ".py",
   "mimetype": "text/x-python",
   "name": "python",
   "nbconvert_exporter": "python",
   "pygments_lexer": "ipython3",
   "version": "3.6.8"
  }
 },
 "nbformat": 4,
 "nbformat_minor": 2
}
