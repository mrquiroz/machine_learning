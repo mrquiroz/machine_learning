{
 "cells": [
  {
   "cell_type": "markdown",
   "metadata": {},
   "source": [
    "##### Moises Quiroz Diaz\n",
    "##### G3"
   ]
  },
  {
   "cell_type": "markdown",
   "metadata": {},
   "source": [
    "### Desafío - Mecanismos de Votación\n",
    "* Para realizar este desafío debes haber revisado la lectura y videos correspondiente a la unidad.\n",
    "* Crea una carpeta de trabajo y guarda todos los archivos correspondientes (notebook y csv).\n",
    "* Una vez terminado el desafío, comprime la carpeta y sube el .zip a la sección correspondiente.\n",
    "\n",
    "#### Descripción\n",
    "Para esta actividad desarrollaremos un ensamble heterogéneo que prediga la popularidad o\n",
    "inpopularidad de contenido en línea de un sitio web. El archivo csv tiene un total de 39797 registros, donde cada uno representa características del artículo publicado en el sitio web. Cada registro tiene un total de 61 atributos que miden características del texto, cantidad de imágenes, keywords, etc. Los artículos provienen de la publicación K. Fernandes, P. Vinagre and P. Cortez. A Proactive Intelligent Decision Support System for Predicting the Popularity of Online News. Proceedings of the 17th EPIA 2015 - Portuguese Conference on Artificial Intelligence, September, Coimbra, Portugal.. Los artículos\n",
    "registrados son de la página web www.mashable.com. \n",
    "\n",
    "Más información sobre los atributos se puede encontrar en el archivo OnlineNewsPopularity.names."
   ]
  },
  {
   "cell_type": "markdown",
   "metadata": {},
   "source": [
    "### Ejercicio 1 - Preparación del Ambiente de Trabajo\n",
    "* A continuación se le presenta un código que agrupa las variables por grupos. Cada uno de éstos hace referencia a alguna característica de los registros en la base de datos. Genere una análisis descriptivo de cada uno de los atributos. Puede utilizar la función grid_plot_batch que se encuentra en el archivo helpers.py.\n",
    "\n",
    "```python\n",
    "# las etiquetas de las columnas presentan un espacio extra, con ésto lo podemos eliminar\n",
    "df.columns = [i.replace(' ', '') for i in df.columns]\n",
    "# eliminamos el string de url que no sirve para el análisis\n",
    "df = df.loc[:, 'n_tokens_title':'shares']\n",
    "# generamos el conjunto de variables\n",
    "qnty = df.filter(regex='^n_', axis=1)\n",
    "channel = df.filter(regex='^data_', axis=1)\n",
    "days = df.filter(regex=re.compile(\"weekday|weekend\"), axis=1)\n",
    "sentiments = df.filter(regex=re.compile(\"negative|positive|subjectivity\"),axis=1)\n",
    "lda = df.filter(regex='^LDA_\\d', axis=1)\n",
    "keywords = df.filter(regex='^kw_', axis=1)\n",
    "\n",
    "```\n",
    "\n",
    "* Describa el comportamiento de las variables.\n",
    "* Dada la naturaleza de los atributos, es probable que algunas mediciones estén correlacionadas entre sí. Para ello, genere un diagnóstico previo de multicolinealidad utilizando la función identify_high_correlations que se encuentra en el archivo helpers.py . Para todos aquellos atributos que tengan una correlación de .8, reporte sus nombres.\n",
    "* Antes de generar los conjuntos de entrenamiento y validación, preprocese los datos con los siguientes pasos:\n",
    "    * Recodifique la variable shares en una variable binaria que identifique como 1 todos los registros con más de 1400 \"compartir\" y 0 de lo contrario. Para evitar multicolinealidad, elimine la variable shares posteriormente.\n",
    "    * Elimine todas las variables que presentaban una correlación mayor a .8. Este paso es para evitar la multicolinealidad de los atributos.\n",
    "    * Genere un análisis de Componentes Principales para extraer las principales 30 dimensiones. Guarde estas dimensiones en un nuevo objeto."
   ]
  },
  {
   "cell_type": "code",
   "execution_count": 1,
   "metadata": {},
   "outputs": [],
   "source": [
    "import pandas as pd\n",
    "import numpy as np\n",
    "import matplotlib.pyplot as plt\n",
    "import seaborn as sns\n",
    "import warnings\n",
    "import re\n",
    "from helpers import *\n",
    "warnings.filterwarnings('ignore')\n",
    "plt.style.use('seaborn')"
   ]
  },
  {
   "cell_type": "code",
   "execution_count": 2,
   "metadata": {},
   "outputs": [],
   "source": [
    "def plot_classification_report_v2(y_test, class_pred):\n",
    "    \"\"\"\n",
    "    plot_classification_report: Genera una visualización de los puntajes reportados con la función `sklearn.metrics.classification_report`.\n",
    "\n",
    "    Parámetros de ingreso:\n",
    "        - y_true: Un vector objetivo de validación.\n",
    "        - y_hat: Un vector objetivo estimado en función a la matriz de atributos de validación y un modelo entrenado.\n",
    "\n",
    "    Retorno:\n",
    "        - Un gráfico generado con matplotlib.pyplot\n",
    "\n",
    "    \"\"\"\n",
    "    report_classification = classification_report(y_test, class_pred,output_dict=True)\n",
    "    report = pd.DataFrame(report_classification).T.reset_index()\n",
    "    report.loc[report[\"index\"].isin(y_test.unique().astype(str))]\n",
    "    # rename columns\n",
    "    report.columns = ['idx', 'prec', 'rec', 'f1', 'n']\n",
    "    # preserve class labels\n",
    "    class_labels = report.iloc[:np.unique(y_test).shape[0]].pop('idx').apply(int)\n",
    "    # separate values\n",
    "    class_report = report.iloc[:np.unique(y_test).shape[0], 1:4]\n",
    "    # convert from str to float\n",
    "    class_report = class_report.applymap(float)\n",
    "    # convert to float average report\n",
    "    average_report = report.iloc[-1, 1: 4].apply(float)\n",
    "    colors = ['dodgerblue', 'tomato', 'purple', 'orange']\n",
    "    marker=['.','^']\n",
    "\n",
    "    for i in class_labels:\n",
    "        plt.plot(class_report['prec'][i], [1], marker=marker[i], color=colors[i])\n",
    "        plt.plot(class_report['rec'][i], [2], marker=marker[i], color=colors[i])\n",
    "        plt.plot(class_report['f1'][i], [3], marker=marker[i],color=colors[i], label=f'Class: {i}')\n",
    "\n",
    "        \n",
    "\n",
    "    plt.scatter(average_report, [1, 2, 3], marker='o', color='forestgreen', label='Avg')\n",
    "    plt.yticks([1.0, 2.0, 3.0], ['Precision', 'Recall', 'f1-Score'])\n",
    "    plt.legend()\n",
    "    plt.show()"
   ]
  },
  {
   "cell_type": "code",
   "execution_count": 3,
   "metadata": {},
   "outputs": [
    {
     "data": {
      "text/html": [
       "<div>\n",
       "<style scoped>\n",
       "    .dataframe tbody tr th:only-of-type {\n",
       "        vertical-align: middle;\n",
       "    }\n",
       "\n",
       "    .dataframe tbody tr th {\n",
       "        vertical-align: top;\n",
       "    }\n",
       "\n",
       "    .dataframe thead th {\n",
       "        text-align: right;\n",
       "    }\n",
       "</style>\n",
       "<table border=\"1\" class=\"dataframe\">\n",
       "  <thead>\n",
       "    <tr style=\"text-align: right;\">\n",
       "      <th></th>\n",
       "      <th>url</th>\n",
       "      <th>timedelta</th>\n",
       "      <th>n_tokens_title</th>\n",
       "      <th>n_tokens_content</th>\n",
       "      <th>n_unique_tokens</th>\n",
       "      <th>n_non_stop_words</th>\n",
       "      <th>n_non_stop_unique_tokens</th>\n",
       "      <th>num_hrefs</th>\n",
       "      <th>num_self_hrefs</th>\n",
       "      <th>num_imgs</th>\n",
       "      <th>...</th>\n",
       "      <th>min_positive_polarity</th>\n",
       "      <th>max_positive_polarity</th>\n",
       "      <th>avg_negative_polarity</th>\n",
       "      <th>min_negative_polarity</th>\n",
       "      <th>max_negative_polarity</th>\n",
       "      <th>title_subjectivity</th>\n",
       "      <th>title_sentiment_polarity</th>\n",
       "      <th>abs_title_subjectivity</th>\n",
       "      <th>abs_title_sentiment_polarity</th>\n",
       "      <th>shares</th>\n",
       "    </tr>\n",
       "  </thead>\n",
       "  <tbody>\n",
       "    <tr>\n",
       "      <th>9164</th>\n",
       "      <td>http://mashable.com/2013/06/29/grand-theft-aut...</td>\n",
       "      <td>558.0</td>\n",
       "      <td>9.0</td>\n",
       "      <td>91.0</td>\n",
       "      <td>0.777778</td>\n",
       "      <td>1.0</td>\n",
       "      <td>0.892857</td>\n",
       "      <td>5.0</td>\n",
       "      <td>1.0</td>\n",
       "      <td>0.0</td>\n",
       "      <td>...</td>\n",
       "      <td>0.1</td>\n",
       "      <td>0.5</td>\n",
       "      <td>-0.4</td>\n",
       "      <td>-0.4</td>\n",
       "      <td>-0.4</td>\n",
       "      <td>0.633333</td>\n",
       "      <td>0.05</td>\n",
       "      <td>0.133333</td>\n",
       "      <td>0.05</td>\n",
       "      <td>916</td>\n",
       "    </tr>\n",
       "  </tbody>\n",
       "</table>\n",
       "<p>1 rows × 61 columns</p>\n",
       "</div>"
      ],
      "text/plain": [
       "                                                    url   timedelta  \\\n",
       "9164  http://mashable.com/2013/06/29/grand-theft-aut...       558.0   \n",
       "\n",
       "       n_tokens_title   n_tokens_content   n_unique_tokens   n_non_stop_words  \\\n",
       "9164              9.0               91.0          0.777778                1.0   \n",
       "\n",
       "       n_non_stop_unique_tokens   num_hrefs   num_self_hrefs   num_imgs  ...  \\\n",
       "9164                   0.892857         5.0              1.0        0.0  ...   \n",
       "\n",
       "       min_positive_polarity   max_positive_polarity   avg_negative_polarity  \\\n",
       "9164                     0.1                     0.5                    -0.4   \n",
       "\n",
       "       min_negative_polarity   max_negative_polarity   title_subjectivity  \\\n",
       "9164                    -0.4                    -0.4             0.633333   \n",
       "\n",
       "       title_sentiment_polarity   abs_title_subjectivity  \\\n",
       "9164                       0.05                 0.133333   \n",
       "\n",
       "       abs_title_sentiment_polarity   shares  \n",
       "9164                           0.05      916  \n",
       "\n",
       "[1 rows x 61 columns]"
      ]
     },
     "execution_count": 3,
     "metadata": {},
     "output_type": "execute_result"
    }
   ],
   "source": [
    "df = pd.read_csv('OnlineNewsPopularity/OnlineNewsPopularity.csv')\n",
    "df.sample()"
   ]
  },
  {
   "cell_type": "code",
   "execution_count": 4,
   "metadata": {},
   "outputs": [],
   "source": [
    "# las etiquetas de las columnas presentan un espacio extra, con ésto lo podemos eliminar\n",
    "df.columns = [i.replace(' ', '') for i in df.columns]\n",
    "# eliminamos el string de url que no sirve para el análisis\n",
    "df = df.loc[:, 'n_tokens_title':'shares']\n",
    "# generamos el conjunto de variables\n",
    "qnty = df.filter(regex='^n_', axis=1)\n",
    "channel = df.filter(regex='^data_', axis=1)\n",
    "days = df.filter(regex=re.compile(\"weekday|weekend\"), axis=1)\n",
    "sentiments = df.filter(regex=re.compile(\"negative|positive|subjectivity\"),axis=1)\n",
    "lda = df.filter(regex='^LDA_\\d', axis=1)\n",
    "keywords = df.filter(regex='^kw_', axis=1)"
   ]
  },
  {
   "cell_type": "code",
   "execution_count": 5,
   "metadata": {},
   "outputs": [
    {
     "data": {
      "text/html": [
       "<div>\n",
       "<style scoped>\n",
       "    .dataframe tbody tr th:only-of-type {\n",
       "        vertical-align: middle;\n",
       "    }\n",
       "\n",
       "    .dataframe tbody tr th {\n",
       "        vertical-align: top;\n",
       "    }\n",
       "\n",
       "    .dataframe thead th {\n",
       "        text-align: right;\n",
       "    }\n",
       "</style>\n",
       "<table border=\"1\" class=\"dataframe\">\n",
       "  <thead>\n",
       "    <tr style=\"text-align: right;\">\n",
       "      <th></th>\n",
       "      <th>n_tokens_title</th>\n",
       "      <th>n_tokens_content</th>\n",
       "      <th>n_unique_tokens</th>\n",
       "      <th>n_non_stop_words</th>\n",
       "      <th>n_non_stop_unique_tokens</th>\n",
       "      <th>num_hrefs</th>\n",
       "      <th>num_self_hrefs</th>\n",
       "      <th>num_imgs</th>\n",
       "      <th>num_videos</th>\n",
       "      <th>average_token_length</th>\n",
       "      <th>...</th>\n",
       "      <th>min_positive_polarity</th>\n",
       "      <th>max_positive_polarity</th>\n",
       "      <th>avg_negative_polarity</th>\n",
       "      <th>min_negative_polarity</th>\n",
       "      <th>max_negative_polarity</th>\n",
       "      <th>title_subjectivity</th>\n",
       "      <th>title_sentiment_polarity</th>\n",
       "      <th>abs_title_subjectivity</th>\n",
       "      <th>abs_title_sentiment_polarity</th>\n",
       "      <th>shares</th>\n",
       "    </tr>\n",
       "  </thead>\n",
       "  <tbody>\n",
       "    <tr>\n",
       "      <th>28796</th>\n",
       "      <td>7.0</td>\n",
       "      <td>207.0</td>\n",
       "      <td>0.755208</td>\n",
       "      <td>1.0</td>\n",
       "      <td>0.803922</td>\n",
       "      <td>7.0</td>\n",
       "      <td>2.0</td>\n",
       "      <td>7.0</td>\n",
       "      <td>2.0</td>\n",
       "      <td>5.2657</td>\n",
       "      <td>...</td>\n",
       "      <td>0.16</td>\n",
       "      <td>1.0</td>\n",
       "      <td>-0.385</td>\n",
       "      <td>-1.0</td>\n",
       "      <td>-0.125</td>\n",
       "      <td>0.0</td>\n",
       "      <td>0.0</td>\n",
       "      <td>0.5</td>\n",
       "      <td>0.0</td>\n",
       "      <td>1100</td>\n",
       "    </tr>\n",
       "  </tbody>\n",
       "</table>\n",
       "<p>1 rows × 59 columns</p>\n",
       "</div>"
      ],
      "text/plain": [
       "       n_tokens_title  n_tokens_content  n_unique_tokens  n_non_stop_words  \\\n",
       "28796             7.0             207.0         0.755208               1.0   \n",
       "\n",
       "       n_non_stop_unique_tokens  num_hrefs  num_self_hrefs  num_imgs  \\\n",
       "28796                  0.803922        7.0             2.0       7.0   \n",
       "\n",
       "       num_videos  average_token_length  ...  min_positive_polarity  \\\n",
       "28796         2.0                5.2657  ...                   0.16   \n",
       "\n",
       "       max_positive_polarity  avg_negative_polarity  min_negative_polarity  \\\n",
       "28796                    1.0                 -0.385                   -1.0   \n",
       "\n",
       "       max_negative_polarity  title_subjectivity  title_sentiment_polarity  \\\n",
       "28796                 -0.125                 0.0                       0.0   \n",
       "\n",
       "       abs_title_subjectivity  abs_title_sentiment_polarity  shares  \n",
       "28796                     0.5                           0.0    1100  \n",
       "\n",
       "[1 rows x 59 columns]"
      ]
     },
     "execution_count": 5,
     "metadata": {},
     "output_type": "execute_result"
    }
   ],
   "source": [
    "df.sample()"
   ]
  },
  {
   "cell_type": "code",
   "execution_count": 6,
   "metadata": {},
   "outputs": [
    {
     "data": {
      "text/html": [
       "<div>\n",
       "<style scoped>\n",
       "    .dataframe tbody tr th:only-of-type {\n",
       "        vertical-align: middle;\n",
       "    }\n",
       "\n",
       "    .dataframe tbody tr th {\n",
       "        vertical-align: top;\n",
       "    }\n",
       "\n",
       "    .dataframe thead th {\n",
       "        text-align: right;\n",
       "    }\n",
       "</style>\n",
       "<table border=\"1\" class=\"dataframe\">\n",
       "  <thead>\n",
       "    <tr style=\"text-align: right;\">\n",
       "      <th></th>\n",
       "      <th>n_tokens_title</th>\n",
       "      <th>n_tokens_content</th>\n",
       "      <th>n_unique_tokens</th>\n",
       "      <th>n_non_stop_words</th>\n",
       "      <th>n_non_stop_unique_tokens</th>\n",
       "    </tr>\n",
       "  </thead>\n",
       "  <tbody>\n",
       "    <tr>\n",
       "      <th>35323</th>\n",
       "      <td>13.0</td>\n",
       "      <td>268.0</td>\n",
       "      <td>0.640152</td>\n",
       "      <td>1.0</td>\n",
       "      <td>0.775</td>\n",
       "    </tr>\n",
       "  </tbody>\n",
       "</table>\n",
       "</div>"
      ],
      "text/plain": [
       "       n_tokens_title  n_tokens_content  n_unique_tokens  n_non_stop_words  \\\n",
       "35323            13.0             268.0         0.640152               1.0   \n",
       "\n",
       "       n_non_stop_unique_tokens  \n",
       "35323                     0.775  "
      ]
     },
     "execution_count": 6,
     "metadata": {},
     "output_type": "execute_result"
    }
   ],
   "source": [
    "qnty.sample()"
   ]
  },
  {
   "cell_type": "code",
   "execution_count": 7,
   "metadata": {},
   "outputs": [
    {
     "data": {
      "image/png": "[encoded data removed]",
      "text/plain": [
       "<Figure size 432x288 with 5 Axes>"
      ]
     },
     "metadata": {
      "needs_background": "light"
     },
     "output_type": "display_data"
    }
   ],
   "source": [
    "grid_plot_batch(qnty,2,sns.distplot)"
   ]
  },
  {
   "cell_type": "code",
   "execution_count": 8,
   "metadata": {},
   "outputs": [
    {
     "data": {
      "text/html": [
       "<div>\n",
       "<style scoped>\n",
       "    .dataframe tbody tr th:only-of-type {\n",
       "        vertical-align: middle;\n",
       "    }\n",
       "\n",
       "    .dataframe tbody tr th {\n",
       "        vertical-align: top;\n",
       "    }\n",
       "\n",
       "    .dataframe thead th {\n",
       "        text-align: right;\n",
       "    }\n",
       "</style>\n",
       "<table border=\"1\" class=\"dataframe\">\n",
       "  <thead>\n",
       "    <tr style=\"text-align: right;\">\n",
       "      <th></th>\n",
       "      <th>data_channel_is_lifestyle</th>\n",
       "      <th>data_channel_is_entertainment</th>\n",
       "      <th>data_channel_is_bus</th>\n",
       "      <th>data_channel_is_socmed</th>\n",
       "      <th>data_channel_is_tech</th>\n",
       "      <th>data_channel_is_world</th>\n",
       "    </tr>\n",
       "  </thead>\n",
       "  <tbody>\n",
       "    <tr>\n",
       "      <th>10120</th>\n",
       "      <td>0.0</td>\n",
       "      <td>0.0</td>\n",
       "      <td>0.0</td>\n",
       "      <td>0.0</td>\n",
       "      <td>1.0</td>\n",
       "      <td>0.0</td>\n",
       "    </tr>\n",
       "  </tbody>\n",
       "</table>\n",
       "</div>"
      ],
      "text/plain": [
       "       data_channel_is_lifestyle  data_channel_is_entertainment  \\\n",
       "10120                        0.0                            0.0   \n",
       "\n",
       "       data_channel_is_bus  data_channel_is_socmed  data_channel_is_tech  \\\n",
       "10120                  0.0                     0.0                   1.0   \n",
       "\n",
       "       data_channel_is_world  \n",
       "10120                    0.0  "
      ]
     },
     "execution_count": 8,
     "metadata": {},
     "output_type": "execute_result"
    }
   ],
   "source": [
    "channel.sample()"
   ]
  },
  {
   "cell_type": "code",
   "execution_count": 9,
   "metadata": {},
   "outputs": [
    {
     "data": {
      "image/png": "[encoded data removed]",
      "text/plain": [
       "<Figure size 432x288 with 6 Axes>"
      ]
     },
     "metadata": {
      "needs_background": "light"
     },
     "output_type": "display_data"
    }
   ],
   "source": [
    "grid_plot_batch(channel,3,sns.countplot)"
   ]
  },
  {
   "cell_type": "markdown",
   "metadata": {},
   "source": [
    "Se observa brevemente sobre que tratan cada mensaje"
   ]
  },
  {
   "cell_type": "code",
   "execution_count": 10,
   "metadata": {},
   "outputs": [
    {
     "data": {
      "text/html": [
       "<div>\n",
       "<style scoped>\n",
       "    .dataframe tbody tr th:only-of-type {\n",
       "        vertical-align: middle;\n",
       "    }\n",
       "\n",
       "    .dataframe tbody tr th {\n",
       "        vertical-align: top;\n",
       "    }\n",
       "\n",
       "    .dataframe thead th {\n",
       "        text-align: right;\n",
       "    }\n",
       "</style>\n",
       "<table border=\"1\" class=\"dataframe\">\n",
       "  <thead>\n",
       "    <tr style=\"text-align: right;\">\n",
       "      <th></th>\n",
       "      <th>weekday_is_monday</th>\n",
       "      <th>weekday_is_tuesday</th>\n",
       "      <th>weekday_is_wednesday</th>\n",
       "      <th>weekday_is_thursday</th>\n",
       "      <th>weekday_is_friday</th>\n",
       "      <th>weekday_is_saturday</th>\n",
       "      <th>weekday_is_sunday</th>\n",
       "      <th>is_weekend</th>\n",
       "    </tr>\n",
       "  </thead>\n",
       "  <tbody>\n",
       "    <tr>\n",
       "      <th>2329</th>\n",
       "      <td>0.0</td>\n",
       "      <td>0.0</td>\n",
       "      <td>0.0</td>\n",
       "      <td>0.0</td>\n",
       "      <td>1.0</td>\n",
       "      <td>0.0</td>\n",
       "      <td>0.0</td>\n",
       "      <td>0.0</td>\n",
       "    </tr>\n",
       "  </tbody>\n",
       "</table>\n",
       "</div>"
      ],
      "text/plain": [
       "      weekday_is_monday  weekday_is_tuesday  weekday_is_wednesday  \\\n",
       "2329                0.0                 0.0                   0.0   \n",
       "\n",
       "      weekday_is_thursday  weekday_is_friday  weekday_is_saturday  \\\n",
       "2329                  0.0                1.0                  0.0   \n",
       "\n",
       "      weekday_is_sunday  is_weekend  \n",
       "2329                0.0         0.0  "
      ]
     },
     "execution_count": 10,
     "metadata": {},
     "output_type": "execute_result"
    }
   ],
   "source": [
    "days.sample()"
   ]
  },
  {
   "cell_type": "code",
   "execution_count": 11,
   "metadata": {},
   "outputs": [
    {
     "data": {
      "image/png": "[encoded data removed]",
      "text/plain": [
       "<Figure size 432x288 with 8 Axes>"
      ]
     },
     "metadata": {
      "needs_background": "light"
     },
     "output_type": "display_data"
    }
   ],
   "source": [
    "grid_plot_batch(days,3,sns.countplot)"
   ]
  },
  {
   "cell_type": "code",
   "execution_count": 12,
   "metadata": {},
   "outputs": [
    {
     "data": {
      "text/html": [
       "<div>\n",
       "<style scoped>\n",
       "    .dataframe tbody tr th:only-of-type {\n",
       "        vertical-align: middle;\n",
       "    }\n",
       "\n",
       "    .dataframe tbody tr th {\n",
       "        vertical-align: top;\n",
       "    }\n",
       "\n",
       "    .dataframe thead th {\n",
       "        text-align: right;\n",
       "    }\n",
       "</style>\n",
       "<table border=\"1\" class=\"dataframe\">\n",
       "  <thead>\n",
       "    <tr style=\"text-align: right;\">\n",
       "      <th></th>\n",
       "      <th>global_subjectivity</th>\n",
       "      <th>global_rate_positive_words</th>\n",
       "      <th>global_rate_negative_words</th>\n",
       "      <th>rate_positive_words</th>\n",
       "      <th>rate_negative_words</th>\n",
       "      <th>avg_positive_polarity</th>\n",
       "      <th>min_positive_polarity</th>\n",
       "      <th>max_positive_polarity</th>\n",
       "      <th>avg_negative_polarity</th>\n",
       "      <th>min_negative_polarity</th>\n",
       "      <th>max_negative_polarity</th>\n",
       "      <th>title_subjectivity</th>\n",
       "      <th>abs_title_subjectivity</th>\n",
       "    </tr>\n",
       "  </thead>\n",
       "  <tbody>\n",
       "    <tr>\n",
       "      <th>35389</th>\n",
       "      <td>0.513885</td>\n",
       "      <td>0.047872</td>\n",
       "      <td>0.008865</td>\n",
       "      <td>0.84375</td>\n",
       "      <td>0.15625</td>\n",
       "      <td>0.275202</td>\n",
       "      <td>0.1</td>\n",
       "      <td>1.0</td>\n",
       "      <td>-0.434444</td>\n",
       "      <td>-1.0</td>\n",
       "      <td>-0.125</td>\n",
       "      <td>0.0</td>\n",
       "      <td>0.5</td>\n",
       "    </tr>\n",
       "  </tbody>\n",
       "</table>\n",
       "</div>"
      ],
      "text/plain": [
       "       global_subjectivity  global_rate_positive_words  \\\n",
       "35389             0.513885                    0.047872   \n",
       "\n",
       "       global_rate_negative_words  rate_positive_words  rate_negative_words  \\\n",
       "35389                    0.008865              0.84375              0.15625   \n",
       "\n",
       "       avg_positive_polarity  min_positive_polarity  max_positive_polarity  \\\n",
       "35389               0.275202                    0.1                    1.0   \n",
       "\n",
       "       avg_negative_polarity  min_negative_polarity  max_negative_polarity  \\\n",
       "35389              -0.434444                   -1.0                 -0.125   \n",
       "\n",
       "       title_subjectivity  abs_title_subjectivity  \n",
       "35389                 0.0                     0.5  "
      ]
     },
     "execution_count": 12,
     "metadata": {},
     "output_type": "execute_result"
    }
   ],
   "source": [
    "sentiments.sample()"
   ]
  },
  {
   "cell_type": "code",
   "execution_count": 13,
   "metadata": {},
   "outputs": [
    {
     "data": {
      "image/png": "[encoded data removed]",
      "text/plain": [
       "<Figure size 720x720 with 13 Axes>"
      ]
     },
     "metadata": {
      "needs_background": "light"
     },
     "output_type": "display_data"
    }
   ],
   "source": [
    "plt.figure(figsize=(10,10))\n",
    "grid_plot_batch(sentiments,3,sns.distplot)"
   ]
  },
  {
   "cell_type": "code",
   "execution_count": 14,
   "metadata": {},
   "outputs": [
    {
     "data": {
      "text/html": [
       "<div>\n",
       "<style scoped>\n",
       "    .dataframe tbody tr th:only-of-type {\n",
       "        vertical-align: middle;\n",
       "    }\n",
       "\n",
       "    .dataframe tbody tr th {\n",
       "        vertical-align: top;\n",
       "    }\n",
       "\n",
       "    .dataframe thead th {\n",
       "        text-align: right;\n",
       "    }\n",
       "</style>\n",
       "<table border=\"1\" class=\"dataframe\">\n",
       "  <thead>\n",
       "    <tr style=\"text-align: right;\">\n",
       "      <th></th>\n",
       "      <th>LDA_00</th>\n",
       "      <th>LDA_01</th>\n",
       "      <th>LDA_02</th>\n",
       "      <th>LDA_03</th>\n",
       "      <th>LDA_04</th>\n",
       "    </tr>\n",
       "  </thead>\n",
       "  <tbody>\n",
       "    <tr>\n",
       "      <th>14252</th>\n",
       "      <td>0.698779</td>\n",
       "      <td>0.2003</td>\n",
       "      <td>0.033379</td>\n",
       "      <td>0.034206</td>\n",
       "      <td>0.033335</td>\n",
       "    </tr>\n",
       "  </tbody>\n",
       "</table>\n",
       "</div>"
      ],
      "text/plain": [
       "         LDA_00  LDA_01    LDA_02    LDA_03    LDA_04\n",
       "14252  0.698779  0.2003  0.033379  0.034206  0.033335"
      ]
     },
     "execution_count": 14,
     "metadata": {},
     "output_type": "execute_result"
    }
   ],
   "source": [
    "lda.sample()"
   ]
  },
  {
   "cell_type": "code",
   "execution_count": 15,
   "metadata": {},
   "outputs": [
    {
     "data": {
      "image/png": "[encoded data removed]",
      "text/plain": [
       "<Figure size 432x288 with 5 Axes>"
      ]
     },
     "metadata": {
      "needs_background": "light"
     },
     "output_type": "display_data"
    }
   ],
   "source": [
    "grid_plot_batch(lda,3,sns.distplot)"
   ]
  },
  {
   "cell_type": "code",
   "execution_count": 16,
   "metadata": {},
   "outputs": [
    {
     "data": {
      "text/html": [
       "<div>\n",
       "<style scoped>\n",
       "    .dataframe tbody tr th:only-of-type {\n",
       "        vertical-align: middle;\n",
       "    }\n",
       "\n",
       "    .dataframe tbody tr th {\n",
       "        vertical-align: top;\n",
       "    }\n",
       "\n",
       "    .dataframe thead th {\n",
       "        text-align: right;\n",
       "    }\n",
       "</style>\n",
       "<table border=\"1\" class=\"dataframe\">\n",
       "  <thead>\n",
       "    <tr style=\"text-align: right;\">\n",
       "      <th></th>\n",
       "      <th>kw_min_min</th>\n",
       "      <th>kw_max_min</th>\n",
       "      <th>kw_avg_min</th>\n",
       "      <th>kw_min_max</th>\n",
       "      <th>kw_max_max</th>\n",
       "      <th>kw_avg_max</th>\n",
       "      <th>kw_min_avg</th>\n",
       "      <th>kw_max_avg</th>\n",
       "      <th>kw_avg_avg</th>\n",
       "    </tr>\n",
       "  </thead>\n",
       "  <tbody>\n",
       "    <tr>\n",
       "      <th>23075</th>\n",
       "      <td>-1.0</td>\n",
       "      <td>1200.0</td>\n",
       "      <td>399.285714</td>\n",
       "      <td>0.0</td>\n",
       "      <td>843300.0</td>\n",
       "      <td>147433.333333</td>\n",
       "      <td>0.0</td>\n",
       "      <td>5260.0</td>\n",
       "      <td>2962.315699</td>\n",
       "    </tr>\n",
       "  </tbody>\n",
       "</table>\n",
       "</div>"
      ],
      "text/plain": [
       "       kw_min_min  kw_max_min  kw_avg_min  kw_min_max  kw_max_max  \\\n",
       "23075        -1.0      1200.0  399.285714         0.0    843300.0   \n",
       "\n",
       "          kw_avg_max  kw_min_avg  kw_max_avg   kw_avg_avg  \n",
       "23075  147433.333333         0.0      5260.0  2962.315699  "
      ]
     },
     "execution_count": 16,
     "metadata": {},
     "output_type": "execute_result"
    }
   ],
   "source": [
    "keywords.sample()"
   ]
  },
  {
   "cell_type": "code",
   "execution_count": 17,
   "metadata": {},
   "outputs": [
    {
     "data": {
      "image/png": "[encoded data removed]",
      "text/plain": [
       "<Figure size 720x720 with 9 Axes>"
      ]
     },
     "metadata": {
      "needs_background": "light"
     },
     "output_type": "display_data"
    }
   ],
   "source": [
    "plt.figure(figsize=(10,10))\n",
    "grid_plot_batch(keywords,3,sns.distplot)"
   ]
  },
  {
   "cell_type": "code",
   "execution_count": 18,
   "metadata": {},
   "outputs": [
    {
     "data": {
      "text/html": [
       "<div>\n",
       "<style scoped>\n",
       "    .dataframe tbody tr th:only-of-type {\n",
       "        vertical-align: middle;\n",
       "    }\n",
       "\n",
       "    .dataframe tbody tr th {\n",
       "        vertical-align: top;\n",
       "    }\n",
       "\n",
       "    .dataframe thead th {\n",
       "        text-align: right;\n",
       "    }\n",
       "</style>\n",
       "<table border=\"1\" class=\"dataframe\">\n",
       "  <thead>\n",
       "    <tr style=\"text-align: right;\">\n",
       "      <th></th>\n",
       "      <th>variable</th>\n",
       "      <th>var2</th>\n",
       "      <th>value</th>\n",
       "    </tr>\n",
       "  </thead>\n",
       "  <tbody>\n",
       "    <tr>\n",
       "      <th>179</th>\n",
       "      <td>n_non_stop_words</td>\n",
       "      <td>n_unique_tokens</td>\n",
       "      <td>0.999572</td>\n",
       "    </tr>\n",
       "    <tr>\n",
       "      <th>238</th>\n",
       "      <td>n_non_stop_unique_tokens</td>\n",
       "      <td>n_unique_tokens</td>\n",
       "      <td>0.999852</td>\n",
       "    </tr>\n",
       "    <tr>\n",
       "      <th>239</th>\n",
       "      <td>n_non_stop_unique_tokens</td>\n",
       "      <td>n_non_stop_words</td>\n",
       "      <td>0.999532</td>\n",
       "    </tr>\n",
       "    <tr>\n",
       "      <th>1139</th>\n",
       "      <td>kw_avg_min</td>\n",
       "      <td>kw_max_min</td>\n",
       "      <td>0.940529</td>\n",
       "    </tr>\n",
       "    <tr>\n",
       "      <th>1256</th>\n",
       "      <td>kw_max_max</td>\n",
       "      <td>kw_min_min</td>\n",
       "      <td>-0.857226</td>\n",
       "    </tr>\n",
       "    <tr>\n",
       "      <th>1499</th>\n",
       "      <td>kw_avg_avg</td>\n",
       "      <td>kw_max_avg</td>\n",
       "      <td>0.811864</td>\n",
       "    </tr>\n",
       "    <tr>\n",
       "      <th>1678</th>\n",
       "      <td>self_reference_avg_sharess</td>\n",
       "      <td>self_reference_min_shares</td>\n",
       "      <td>0.818907</td>\n",
       "    </tr>\n",
       "    <tr>\n",
       "      <th>1679</th>\n",
       "      <td>self_reference_avg_sharess</td>\n",
       "      <td>self_reference_max_shares</td>\n",
       "      <td>0.853480</td>\n",
       "    </tr>\n",
       "    <tr>\n",
       "      <th>2317</th>\n",
       "      <td>LDA_02</td>\n",
       "      <td>data_channel_is_world</td>\n",
       "      <td>0.836618</td>\n",
       "    </tr>\n",
       "  </tbody>\n",
       "</table>\n",
       "</div>"
      ],
      "text/plain": [
       "                        variable                       var2     value\n",
       "179             n_non_stop_words            n_unique_tokens  0.999572\n",
       "238     n_non_stop_unique_tokens            n_unique_tokens  0.999852\n",
       "239     n_non_stop_unique_tokens           n_non_stop_words  0.999532\n",
       "1139                  kw_avg_min                 kw_max_min  0.940529\n",
       "1256                  kw_max_max                 kw_min_min -0.857226\n",
       "1499                  kw_avg_avg                 kw_max_avg  0.811864\n",
       "1678  self_reference_avg_sharess  self_reference_min_shares  0.818907\n",
       "1679  self_reference_avg_sharess  self_reference_max_shares  0.853480\n",
       "2317                      LDA_02      data_channel_is_world  0.836618"
      ]
     },
     "execution_count": 18,
     "metadata": {},
     "output_type": "execute_result"
    }
   ],
   "source": [
    "from helpers import identify_high_correlations\n",
    "identify_high_correlations(df,threshold=0.8)"
   ]
  },
  {
   "cell_type": "markdown",
   "metadata": {},
   "source": [
    "Aunque se modifico la funcion aun retorna algunos valores que no corresponden por lo que se implementa aqui"
   ]
  },
  {
   "cell_type": "code",
   "execution_count": 19,
   "metadata": {},
   "outputs": [
    {
     "data": {
      "text/html": [
       "<div>\n",
       "<style scoped>\n",
       "    .dataframe tbody tr th:only-of-type {\n",
       "        vertical-align: middle;\n",
       "    }\n",
       "\n",
       "    .dataframe tbody tr th {\n",
       "        vertical-align: top;\n",
       "    }\n",
       "\n",
       "    .dataframe thead th {\n",
       "        text-align: right;\n",
       "    }\n",
       "</style>\n",
       "<table border=\"1\" class=\"dataframe\">\n",
       "  <thead>\n",
       "    <tr style=\"text-align: right;\">\n",
       "      <th></th>\n",
       "      <th>variable</th>\n",
       "      <th>var2</th>\n",
       "      <th>value</th>\n",
       "    </tr>\n",
       "  </thead>\n",
       "  <tbody>\n",
       "    <tr>\n",
       "      <th>179</th>\n",
       "      <td>n_non_stop_words</td>\n",
       "      <td>n_unique_tokens</td>\n",
       "      <td>0.999572</td>\n",
       "    </tr>\n",
       "    <tr>\n",
       "      <th>238</th>\n",
       "      <td>n_non_stop_unique_tokens</td>\n",
       "      <td>n_unique_tokens</td>\n",
       "      <td>0.999852</td>\n",
       "    </tr>\n",
       "    <tr>\n",
       "      <th>239</th>\n",
       "      <td>n_non_stop_unique_tokens</td>\n",
       "      <td>n_non_stop_words</td>\n",
       "      <td>0.999532</td>\n",
       "    </tr>\n",
       "    <tr>\n",
       "      <th>1139</th>\n",
       "      <td>kw_avg_min</td>\n",
       "      <td>kw_max_min</td>\n",
       "      <td>0.940529</td>\n",
       "    </tr>\n",
       "    <tr>\n",
       "      <th>1256</th>\n",
       "      <td>kw_max_max</td>\n",
       "      <td>kw_min_min</td>\n",
       "      <td>-0.857226</td>\n",
       "    </tr>\n",
       "    <tr>\n",
       "      <th>1499</th>\n",
       "      <td>kw_avg_avg</td>\n",
       "      <td>kw_max_avg</td>\n",
       "      <td>0.811864</td>\n",
       "    </tr>\n",
       "    <tr>\n",
       "      <th>1678</th>\n",
       "      <td>self_reference_avg_sharess</td>\n",
       "      <td>self_reference_min_shares</td>\n",
       "      <td>0.818907</td>\n",
       "    </tr>\n",
       "    <tr>\n",
       "      <th>1679</th>\n",
       "      <td>self_reference_avg_sharess</td>\n",
       "      <td>self_reference_max_shares</td>\n",
       "      <td>0.853480</td>\n",
       "    </tr>\n",
       "    <tr>\n",
       "      <th>2317</th>\n",
       "      <td>LDA_02</td>\n",
       "      <td>data_channel_is_world</td>\n",
       "      <td>0.836618</td>\n",
       "    </tr>\n",
       "  </tbody>\n",
       "</table>\n",
       "</div>"
      ],
      "text/plain": [
       "                        variable                       var2     value\n",
       "179             n_non_stop_words            n_unique_tokens  0.999572\n",
       "238     n_non_stop_unique_tokens            n_unique_tokens  0.999852\n",
       "239     n_non_stop_unique_tokens           n_non_stop_words  0.999532\n",
       "1139                  kw_avg_min                 kw_max_min  0.940529\n",
       "1256                  kw_max_max                 kw_min_min -0.857226\n",
       "1499                  kw_avg_avg                 kw_max_avg  0.811864\n",
       "1678  self_reference_avg_sharess  self_reference_min_shares  0.818907\n",
       "1679  self_reference_avg_sharess  self_reference_max_shares  0.853480\n",
       "2317                      LDA_02      data_channel_is_world  0.836618"
      ]
     },
     "execution_count": 19,
     "metadata": {},
     "output_type": "execute_result"
    }
   ],
   "source": [
    "tmp = df.corr().mask(abs(df.corr()) < .8, df)\n",
    "    # convertimos a long format\n",
    "tmp = pd.melt(tmp)\n",
    "    # agregamos una columna extra que nos facilitará los cruces entre variables\n",
    "tmp['var2'] = list(df.columns) * len(df.columns)\n",
    "    # reordenamos\n",
    "tmp = tmp[['variable', 'var2', 'value']].dropna()\n",
    "    # eliminamos valores duplicados\n",
    "tmp = tmp[tmp['value'].duplicated()]\n",
    "tmp = tmp[tmp['value']<1]\n",
    "tmp"
   ]
  },
  {
   "cell_type": "code",
   "execution_count": 20,
   "metadata": {},
   "outputs": [],
   "source": [
    "df['shares'] = np.where(df['shares']>1400, 1, 0)"
   ]
  },
  {
   "cell_type": "code",
   "execution_count": 21,
   "metadata": {},
   "outputs": [
    {
     "data": {
      "text/plain": [
       "<matplotlib.axes._subplots.AxesSubplot at 0x11d3fe198>"
      ]
     },
     "execution_count": 21,
     "metadata": {},
     "output_type": "execute_result"
    },
    {
     "data": {
      "image/png": "[encoded data removed]",
      "text/plain": [
       "<Figure size 432x288 with 1 Axes>"
      ]
     },
     "metadata": {
      "needs_background": "light"
     },
     "output_type": "display_data"
    }
   ],
   "source": [
    "sns.countplot(df.shares)"
   ]
  },
  {
   "cell_type": "code",
   "execution_count": 22,
   "metadata": {},
   "outputs": [],
   "source": [
    "#Se borran las columnas\n",
    "df = df.drop(columns=tmp.variable)"
   ]
  },
  {
   "cell_type": "code",
   "execution_count": 23,
   "metadata": {},
   "outputs": [],
   "source": [
    "from sklearn.preprocessing import StandardScaler"
   ]
  },
  {
   "cell_type": "code",
   "execution_count": 24,
   "metadata": {},
   "outputs": [],
   "source": [
    "from sklearn.model_selection import train_test_split"
   ]
  },
  {
   "cell_type": "code",
   "execution_count": 25,
   "metadata": {},
   "outputs": [],
   "source": [
    "from sklearn.decomposition import PCA"
   ]
  },
  {
   "cell_type": "code",
   "execution_count": 26,
   "metadata": {},
   "outputs": [],
   "source": [
    "Y = df[['shares']]\n",
    "X = df.drop(columns='shares')"
   ]
  },
  {
   "cell_type": "code",
   "execution_count": 27,
   "metadata": {},
   "outputs": [],
   "source": [
    "X = StandardScaler().fit_transform(X)"
   ]
  },
  {
   "cell_type": "code",
   "execution_count": 28,
   "metadata": {},
   "outputs": [],
   "source": [
    "pca = PCA(n_components=30)\n",
    "principalComponents = pca.fit_transform(X)\n",
    "principalDf = pd.DataFrame(data = principalComponents\n",
    "             , columns = list(map(lambda x: 'componente: ' + str(x) ,range(1,31))))"
   ]
  },
  {
   "cell_type": "code",
   "execution_count": 29,
   "metadata": {},
   "outputs": [],
   "source": [
    "finalDf = pd.concat([principalDf, Y], axis = 1)"
   ]
  },
  {
   "cell_type": "code",
   "execution_count": 30,
   "metadata": {},
   "outputs": [
    {
     "data": {
      "text/html": [
       "<div>\n",
       "<style scoped>\n",
       "    .dataframe tbody tr th:only-of-type {\n",
       "        vertical-align: middle;\n",
       "    }\n",
       "\n",
       "    .dataframe tbody tr th {\n",
       "        vertical-align: top;\n",
       "    }\n",
       "\n",
       "    .dataframe thead th {\n",
       "        text-align: right;\n",
       "    }\n",
       "</style>\n",
       "<table border=\"1\" class=\"dataframe\">\n",
       "  <thead>\n",
       "    <tr style=\"text-align: right;\">\n",
       "      <th></th>\n",
       "      <th>componente: 1</th>\n",
       "      <th>componente: 2</th>\n",
       "      <th>componente: 3</th>\n",
       "      <th>componente: 4</th>\n",
       "      <th>componente: 5</th>\n",
       "      <th>componente: 6</th>\n",
       "      <th>componente: 7</th>\n",
       "      <th>componente: 8</th>\n",
       "      <th>componente: 9</th>\n",
       "      <th>componente: 10</th>\n",
       "      <th>...</th>\n",
       "      <th>componente: 22</th>\n",
       "      <th>componente: 23</th>\n",
       "      <th>componente: 24</th>\n",
       "      <th>componente: 25</th>\n",
       "      <th>componente: 26</th>\n",
       "      <th>componente: 27</th>\n",
       "      <th>componente: 28</th>\n",
       "      <th>componente: 29</th>\n",
       "      <th>componente: 30</th>\n",
       "      <th>shares</th>\n",
       "    </tr>\n",
       "  </thead>\n",
       "  <tbody>\n",
       "    <tr>\n",
       "      <th>0</th>\n",
       "      <td>-0.618643</td>\n",
       "      <td>0.265396</td>\n",
       "      <td>0.514598</td>\n",
       "      <td>-0.518741</td>\n",
       "      <td>-2.239566</td>\n",
       "      <td>-1.938325</td>\n",
       "      <td>-0.234358</td>\n",
       "      <td>-1.895144</td>\n",
       "      <td>-0.509105</td>\n",
       "      <td>1.633737</td>\n",
       "      <td>...</td>\n",
       "      <td>0.075427</td>\n",
       "      <td>-0.590934</td>\n",
       "      <td>0.800869</td>\n",
       "      <td>-0.276203</td>\n",
       "      <td>-0.921778</td>\n",
       "      <td>0.783284</td>\n",
       "      <td>-0.502380</td>\n",
       "      <td>-0.699164</td>\n",
       "      <td>0.003744</td>\n",
       "      <td>0</td>\n",
       "    </tr>\n",
       "    <tr>\n",
       "      <th>1</th>\n",
       "      <td>1.304827</td>\n",
       "      <td>-2.162116</td>\n",
       "      <td>-0.209523</td>\n",
       "      <td>-3.183125</td>\n",
       "      <td>0.602376</td>\n",
       "      <td>-1.845250</td>\n",
       "      <td>-0.237379</td>\n",
       "      <td>-1.130965</td>\n",
       "      <td>0.315135</td>\n",
       "      <td>0.636555</td>\n",
       "      <td>...</td>\n",
       "      <td>0.075320</td>\n",
       "      <td>0.218377</td>\n",
       "      <td>-0.480580</td>\n",
       "      <td>-0.254170</td>\n",
       "      <td>-0.011465</td>\n",
       "      <td>-0.247376</td>\n",
       "      <td>-0.859825</td>\n",
       "      <td>-0.551897</td>\n",
       "      <td>-0.822830</td>\n",
       "      <td>0</td>\n",
       "    </tr>\n",
       "    <tr>\n",
       "      <th>2</th>\n",
       "      <td>-2.846230</td>\n",
       "      <td>-2.046048</td>\n",
       "      <td>-0.987701</td>\n",
       "      <td>-2.494907</td>\n",
       "      <td>-0.890564</td>\n",
       "      <td>-0.334777</td>\n",
       "      <td>-0.538383</td>\n",
       "      <td>-0.489835</td>\n",
       "      <td>-0.170516</td>\n",
       "      <td>0.558325</td>\n",
       "      <td>...</td>\n",
       "      <td>-0.021179</td>\n",
       "      <td>0.165225</td>\n",
       "      <td>-0.768853</td>\n",
       "      <td>-0.694382</td>\n",
       "      <td>0.835210</td>\n",
       "      <td>0.809313</td>\n",
       "      <td>-0.043108</td>\n",
       "      <td>0.498024</td>\n",
       "      <td>-0.127600</td>\n",
       "      <td>1</td>\n",
       "    </tr>\n",
       "    <tr>\n",
       "      <th>3</th>\n",
       "      <td>-0.246039</td>\n",
       "      <td>0.926557</td>\n",
       "      <td>-1.272373</td>\n",
       "      <td>-0.697237</td>\n",
       "      <td>-1.822462</td>\n",
       "      <td>-0.192648</td>\n",
       "      <td>-0.400430</td>\n",
       "      <td>-2.833826</td>\n",
       "      <td>-0.292705</td>\n",
       "      <td>0.990589</td>\n",
       "      <td>...</td>\n",
       "      <td>-0.122463</td>\n",
       "      <td>-0.245117</td>\n",
       "      <td>-0.784336</td>\n",
       "      <td>0.367943</td>\n",
       "      <td>0.641650</td>\n",
       "      <td>0.356666</td>\n",
       "      <td>0.350314</td>\n",
       "      <td>-0.128020</td>\n",
       "      <td>0.006177</td>\n",
       "      <td>0</td>\n",
       "    </tr>\n",
       "    <tr>\n",
       "      <th>4</th>\n",
       "      <td>-3.305344</td>\n",
       "      <td>-2.625972</td>\n",
       "      <td>-1.956421</td>\n",
       "      <td>2.526146</td>\n",
       "      <td>1.183390</td>\n",
       "      <td>-0.296317</td>\n",
       "      <td>2.721044</td>\n",
       "      <td>0.114005</td>\n",
       "      <td>-1.654159</td>\n",
       "      <td>1.142829</td>\n",
       "      <td>...</td>\n",
       "      <td>0.066802</td>\n",
       "      <td>-0.250258</td>\n",
       "      <td>1.326208</td>\n",
       "      <td>-0.587975</td>\n",
       "      <td>-0.941504</td>\n",
       "      <td>-0.718213</td>\n",
       "      <td>-0.330467</td>\n",
       "      <td>-0.146181</td>\n",
       "      <td>-0.373381</td>\n",
       "      <td>0</td>\n",
       "    </tr>\n",
       "  </tbody>\n",
       "</table>\n",
       "<p>5 rows × 31 columns</p>\n",
       "</div>"
      ],
      "text/plain": [
       "   componente: 1  componente: 2  componente: 3  componente: 4  componente: 5  \\\n",
       "0      -0.618643       0.265396       0.514598      -0.518741      -2.239566   \n",
       "1       1.304827      -2.162116      -0.209523      -3.183125       0.602376   \n",
       "2      -2.846230      -2.046048      -0.987701      -2.494907      -0.890564   \n",
       "3      -0.246039       0.926557      -1.272373      -0.697237      -1.822462   \n",
       "4      -3.305344      -2.625972      -1.956421       2.526146       1.183390   \n",
       "\n",
       "   componente: 6  componente: 7  componente: 8  componente: 9  componente: 10  \\\n",
       "0      -1.938325      -0.234358      -1.895144      -0.509105        1.633737   \n",
       "1      -1.845250      -0.237379      -1.130965       0.315135        0.636555   \n",
       "2      -0.334777      -0.538383      -0.489835      -0.170516        0.558325   \n",
       "3      -0.192648      -0.400430      -2.833826      -0.292705        0.990589   \n",
       "4      -0.296317       2.721044       0.114005      -1.654159        1.142829   \n",
       "\n",
       "   ...  componente: 22  componente: 23  componente: 24  componente: 25  \\\n",
       "0  ...        0.075427       -0.590934        0.800869       -0.276203   \n",
       "1  ...        0.075320        0.218377       -0.480580       -0.254170   \n",
       "2  ...       -0.021179        0.165225       -0.768853       -0.694382   \n",
       "3  ...       -0.122463       -0.245117       -0.784336        0.367943   \n",
       "4  ...        0.066802       -0.250258        1.326208       -0.587975   \n",
       "\n",
       "   componente: 26  componente: 27  componente: 28  componente: 29  \\\n",
       "0       -0.921778        0.783284       -0.502380       -0.699164   \n",
       "1       -0.011465       -0.247376       -0.859825       -0.551897   \n",
       "2        0.835210        0.809313       -0.043108        0.498024   \n",
       "3        0.641650        0.356666        0.350314       -0.128020   \n",
       "4       -0.941504       -0.718213       -0.330467       -0.146181   \n",
       "\n",
       "   componente: 30  shares  \n",
       "0        0.003744       0  \n",
       "1       -0.822830       0  \n",
       "2       -0.127600       1  \n",
       "3        0.006177       0  \n",
       "4       -0.373381       0  \n",
       "\n",
       "[5 rows x 31 columns]"
      ]
     },
     "execution_count": 30,
     "metadata": {},
     "output_type": "execute_result"
    }
   ],
   "source": [
    "finalDf.head()"
   ]
  },
  {
   "cell_type": "markdown",
   "metadata": {},
   "source": [
    "### Ejercicio 2 - Evaluación de modelos individuales\n",
    "* A continuación generará una serie de modelos que se incorporarán posteriormente al comité de votación. Para ello, se solicita que:\n",
    "    * Importe los módulos correctamente.\n",
    "    * Para cada uno de ellos, genere un reporte en las métricas de desempeño respecto a Precision , Recall , F1 . Puede hacer uso de la función plot_classification_report disponible en el archivo helpers.py .\n",
    "    * Comente el desempeño general de cada uno\n",
    "* La lista de modelos es la siguiente. Cabe destacar que la mayoría de éstos corresponden a implementaciones vanilla, salvo que se indique lo contrario:\n",
    "    * Regresión Logística.\n",
    "    * Algoritmo de KMedias.\n",
    "    * Árbol de Clasificación con un max_depth=1 .\n",
    "    * Árbol de Clasificación con un max_depth=4 ."
   ]
  },
  {
   "cell_type": "code",
   "execution_count": 31,
   "metadata": {},
   "outputs": [],
   "source": [
    "from sklearn.linear_model import LogisticRegression\n",
    "from sklearn.cluster import KMeans\n",
    "from sklearn.tree import DecisionTreeClassifier"
   ]
  },
  {
   "cell_type": "code",
   "execution_count": 32,
   "metadata": {},
   "outputs": [],
   "source": [
    "X_train,X_test,y_train,y_test = train_test_split(finalDf[finalDf.columns[:-1]],finalDf['shares'], test_size=0.33, random_state=42)"
   ]
  },
  {
   "cell_type": "code",
   "execution_count": 33,
   "metadata": {},
   "outputs": [],
   "source": [
    "logistic = LogisticRegression().fit(X_train,y_train)\n",
    "kmen = KMeans(n_clusters=2).fit(X_train,y_test)\n",
    "arbolito = DecisionTreeClassifier(max_depth=1).fit(X_train,y_train)\n",
    "arbol = DecisionTreeClassifier(max_depth=4).fit(X_train,y_train)"
   ]
  },
  {
   "cell_type": "code",
   "execution_count": 34,
   "metadata": {},
   "outputs": [
    {
     "name": "stdout",
     "output_type": "stream",
     "text": [
      "              precision    recall  f1-score   support\n",
      "\n",
      "           0       0.63      0.64      0.64      6670\n",
      "           1       0.62      0.60      0.61      6413\n",
      "\n",
      "    accuracy                           0.62     13083\n",
      "   macro avg       0.62      0.62      0.62     13083\n",
      "weighted avg       0.62      0.62      0.62     13083\n",
      "\n"
     ]
    }
   ],
   "source": [
    "print(classification_report(y_test,logistic.predict(X_test)))"
   ]
  },
  {
   "cell_type": "code",
   "execution_count": 35,
   "metadata": {},
   "outputs": [
    {
     "data": {
      "image/png": "[encoded data removed]",
      "text/plain": [
       "<Figure size 432x288 with 1 Axes>"
      ]
     },
     "metadata": {
      "needs_background": "light"
     },
     "output_type": "display_data"
    }
   ],
   "source": [
    "plot_classification_report_v2(y_test,logistic.predict(X_test))"
   ]
  },
  {
   "cell_type": "code",
   "execution_count": null,
   "metadata": {},
   "outputs": [],
   "source": []
  },
  {
   "cell_type": "code",
   "execution_count": 36,
   "metadata": {},
   "outputs": [
    {
     "name": "stdout",
     "output_type": "stream",
     "text": [
      "              precision    recall  f1-score   support\n",
      "\n",
      "           0       0.46      0.53      0.49      6670\n",
      "           1       0.42      0.35      0.38      6413\n",
      "\n",
      "    accuracy                           0.44     13083\n",
      "   macro avg       0.44      0.44      0.44     13083\n",
      "weighted avg       0.44      0.44      0.44     13083\n",
      "\n"
     ]
    }
   ],
   "source": [
    "print(classification_report(y_test,kmen.predict(X_test)))"
   ]
  },
  {
   "cell_type": "code",
   "execution_count": 37,
   "metadata": {},
   "outputs": [
    {
     "data": {
      "image/png": "[encoded data removed]",
      "text/plain": [
       "<Figure size 432x288 with 1 Axes>"
      ]
     },
     "metadata": {
      "needs_background": "light"
     },
     "output_type": "display_data"
    }
   ],
   "source": [
    "plot_classification_report_v2(y_test,kmen.predict(X_test))"
   ]
  },
  {
   "cell_type": "code",
   "execution_count": null,
   "metadata": {},
   "outputs": [],
   "source": []
  },
  {
   "cell_type": "code",
   "execution_count": 38,
   "metadata": {},
   "outputs": [
    {
     "name": "stdout",
     "output_type": "stream",
     "text": [
      "              precision    recall  f1-score   support\n",
      "\n",
      "           0       0.54      0.84      0.66      6670\n",
      "           1       0.61      0.27      0.37      6413\n",
      "\n",
      "    accuracy                           0.56     13083\n",
      "   macro avg       0.58      0.55      0.52     13083\n",
      "weighted avg       0.58      0.56      0.52     13083\n",
      "\n"
     ]
    }
   ],
   "source": [
    "print(classification_report(y_test,arbolito.predict(X_test)))"
   ]
  },
  {
   "cell_type": "code",
   "execution_count": 39,
   "metadata": {},
   "outputs": [
    {
     "data": {
      "image/png": "[encoded data removed]",
      "text/plain": [
       "<Figure size 432x288 with 1 Axes>"
      ]
     },
     "metadata": {
      "needs_background": "light"
     },
     "output_type": "display_data"
    }
   ],
   "source": [
    "plot_classification_report_v2(y_test,arbolito.predict(X_test))"
   ]
  },
  {
   "cell_type": "code",
   "execution_count": null,
   "metadata": {},
   "outputs": [],
   "source": []
  },
  {
   "cell_type": "code",
   "execution_count": 40,
   "metadata": {},
   "outputs": [
    {
     "name": "stdout",
     "output_type": "stream",
     "text": [
      "              precision    recall  f1-score   support\n",
      "\n",
      "           0       0.60      0.64      0.62      6670\n",
      "           1       0.60      0.56      0.58      6413\n",
      "\n",
      "    accuracy                           0.60     13083\n",
      "   macro avg       0.60      0.60      0.60     13083\n",
      "weighted avg       0.60      0.60      0.60     13083\n",
      "\n"
     ]
    }
   ],
   "source": [
    "print(classification_report(y_test,arbol.predict(X_test)))"
   ]
  },
  {
   "cell_type": "code",
   "execution_count": 41,
   "metadata": {},
   "outputs": [
    {
     "data": {
      "image/png": "[encoded data removed]",
      "text/plain": [
       "<Figure size 432x288 with 1 Axes>"
      ]
     },
     "metadata": {
      "needs_background": "light"
     },
     "output_type": "display_data"
    }
   ],
   "source": [
    "plot_classification_report_v2(y_test,arbol.predict(X_test))"
   ]
  },
  {
   "cell_type": "markdown",
   "metadata": {},
   "source": [
    "En general los modelos muestran rendimientos similares, y regresion logistica es la que ofrece un mejor resultado"
   ]
  },
  {
   "cell_type": "markdown",
   "metadata": {},
   "source": [
    "### Ejercicio 3 - Entrenamiento de Comité\n",
    "* Entrene el comité de clasificadores sin modificar el esquema de votación.\n",
    "* Reporte el desempeño a nivel de cada clase para cada métrica."
   ]
  },
  {
   "cell_type": "code",
   "execution_count": 42,
   "metadata": {},
   "outputs": [],
   "source": [
    "from sklearn.ensemble import VotingClassifier"
   ]
  },
  {
   "cell_type": "code",
   "execution_count": 43,
   "metadata": {},
   "outputs": [
    {
     "data": {
      "text/plain": [
       "VotingClassifier(estimators=[('Logistic',\n",
       "                              LogisticRegression(C=1.0, class_weight=None,\n",
       "                                                 dual=False, fit_intercept=True,\n",
       "                                                 intercept_scaling=1,\n",
       "                                                 l1_ratio=None, max_iter=100,\n",
       "                                                 multi_class='warn',\n",
       "                                                 n_jobs=None, penalty='l2',\n",
       "                                                 random_state=None,\n",
       "                                                 solver='warn', tol=0.0001,\n",
       "                                                 verbose=0, warm_start=False)),\n",
       "                             ('kMns',\n",
       "                              KMeans(algorithm='auto', copy_x=True,\n",
       "                                     init='k-means++', max_iter=300...\n",
       "                                                     splitter='best')),\n",
       "                             ('arbol',\n",
       "                              DecisionTreeClassifier(class_weight=None,\n",
       "                                                     criterion='gini',\n",
       "                                                     max_depth=4,\n",
       "                                                     max_features=None,\n",
       "                                                     max_leaf_nodes=None,\n",
       "                                                     min_impurity_decrease=0.0,\n",
       "                                                     min_impurity_split=None,\n",
       "                                                     min_samples_leaf=1,\n",
       "                                                     min_samples_split=2,\n",
       "                                                     min_weight_fraction_leaf=0.0,\n",
       "                                                     presort=False,\n",
       "                                                     random_state=None,\n",
       "                                                     splitter='best'))],\n",
       "                 flatten_transform=True, n_jobs=None, voting='hard',\n",
       "                 weights=None)"
      ]
     },
     "execution_count": 43,
     "metadata": {},
     "output_type": "execute_result"
    }
   ],
   "source": [
    "clf = VotingClassifier([('Logistic',LogisticRegression()),\n",
    "                      ('kMns',KMeans()),\n",
    "                      ('arbolito',DecisionTreeClassifier(max_depth=1)),\n",
    "                      ('arbol',DecisionTreeClassifier(max_depth=4))])\n",
    "clf.fit(X_train, y_train)"
   ]
  },
  {
   "cell_type": "code",
   "execution_count": 44,
   "metadata": {},
   "outputs": [],
   "source": [
    "predictions = clf.predict(X_test)"
   ]
  },
  {
   "cell_type": "code",
   "execution_count": 45,
   "metadata": {},
   "outputs": [
    {
     "name": "stdout",
     "output_type": "stream",
     "text": [
      "              precision    recall  f1-score   support\n",
      "\n",
      "           0       0.60      0.72      0.66      6670\n",
      "           1       0.63      0.50      0.56      6413\n",
      "\n",
      "    accuracy                           0.61     13083\n",
      "   macro avg       0.62      0.61      0.61     13083\n",
      "weighted avg       0.62      0.61      0.61     13083\n",
      "\n"
     ]
    }
   ],
   "source": [
    "print(classification_report(y_test,predictions))"
   ]
  },
  {
   "cell_type": "code",
   "execution_count": 46,
   "metadata": {},
   "outputs": [
    {
     "data": {
      "image/png": "[encoded data removed]",
      "text/plain": [
       "<Figure size 432x288 with 1 Axes>"
      ]
     },
     "metadata": {
      "needs_background": "light"
     },
     "output_type": "display_data"
    }
   ],
   "source": [
    "plot_classification_report_v2(y_test,predictions)"
   ]
  },
  {
   "cell_type": "markdown",
   "metadata": {},
   "source": [
    "Se observa un desempeño mucho mejor en promedio, si bien no es el mejor accuracy, tiene un buen equilibrio entre recall y acuracy"
   ]
  },
  {
   "cell_type": "markdown",
   "metadata": {},
   "source": [
    "### Ejercicio 4 - Calibración de Comité con Ponderadores\n",
    "* El base al comportamiento de los clasificadores individuales del ensamble, proponga dos esquemas de ponderación para mejorar el desempeño del modelo.\n",
    "* Reporte el desempeño del mejor ensamble heterogéneo."
   ]
  },
  {
   "cell_type": "code",
   "execution_count": 47,
   "metadata": {},
   "outputs": [
    {
     "data": {
      "text/plain": [
       "VotingClassifier(estimators=[('Logistic',\n",
       "                              LogisticRegression(C=1.0, class_weight=None,\n",
       "                                                 dual=False, fit_intercept=True,\n",
       "                                                 intercept_scaling=1,\n",
       "                                                 l1_ratio=None, max_iter=100,\n",
       "                                                 multi_class='warn',\n",
       "                                                 n_jobs=None, penalty='l2',\n",
       "                                                 random_state=None,\n",
       "                                                 solver='warn', tol=0.0001,\n",
       "                                                 verbose=0, warm_start=False)),\n",
       "                             ('kMns',\n",
       "                              KMeans(algorithm='auto', copy_x=True,\n",
       "                                     init='k-means++', max_iter=300...\n",
       "                              DecisionTreeClassifier(class_weight=None,\n",
       "                                                     criterion='gini',\n",
       "                                                     max_depth=4,\n",
       "                                                     max_features=None,\n",
       "                                                     max_leaf_nodes=None,\n",
       "                                                     min_impurity_decrease=0.0,\n",
       "                                                     min_impurity_split=None,\n",
       "                                                     min_samples_leaf=1,\n",
       "                                                     min_samples_split=2,\n",
       "                                                     min_weight_fraction_leaf=0.0,\n",
       "                                                     presort=False,\n",
       "                                                     random_state=None,\n",
       "                                                     splitter='best'))],\n",
       "                 flatten_transform=True, n_jobs=None, voting='hard',\n",
       "                 weights=[0.3, 0.2, 0.25, 0.25])"
      ]
     },
     "execution_count": 47,
     "metadata": {},
     "output_type": "execute_result"
    }
   ],
   "source": [
    "clf = VotingClassifier([('Logistic',LogisticRegression()),\n",
    "                      ('kMns',KMeans()),\n",
    "                      ('arbolito',DecisionTreeClassifier(max_depth=1)),\n",
    "                      ('arbol',DecisionTreeClassifier(max_depth=4))],\n",
    "                       voting='hard', weights=[0.30,0.20,0.25,0.25]\n",
    "                      )\n",
    "clf.fit(X_train, y_train)"
   ]
  },
  {
   "cell_type": "code",
   "execution_count": 48,
   "metadata": {},
   "outputs": [
    {
     "name": "stdout",
     "output_type": "stream",
     "text": [
      "              precision    recall  f1-score   support\n",
      "\n",
      "           0       0.60      0.71      0.65      6670\n",
      "           1       0.63      0.51      0.56      6413\n",
      "\n",
      "    accuracy                           0.61     13083\n",
      "   macro avg       0.62      0.61      0.61     13083\n",
      "weighted avg       0.62      0.61      0.61     13083\n",
      "\n"
     ]
    }
   ],
   "source": [
    "predictions = clf.predict(X_test)\n",
    "print(classification_report(y_test,predictions))"
   ]
  },
  {
   "cell_type": "code",
   "execution_count": 49,
   "metadata": {},
   "outputs": [
    {
     "name": "stdout",
     "output_type": "stream",
     "text": [
      "              precision    recall  f1-score   support\n",
      "\n",
      "           0       0.63      0.64      0.64      6670\n",
      "           1       0.62      0.60      0.61      6413\n",
      "\n",
      "    accuracy                           0.62     13083\n",
      "   macro avg       0.62      0.62      0.62     13083\n",
      "weighted avg       0.62      0.62      0.62     13083\n",
      "\n"
     ]
    }
   ],
   "source": [
    "clf = VotingClassifier([('Logistic',LogisticRegression()),\n",
    "                      ('kMns',KMeans()),\n",
    "                      ('arbolito',DecisionTreeClassifier(max_depth=1)),\n",
    "                      ('arbol',DecisionTreeClassifier(max_depth=4))],\n",
    "                       voting='hard', weights=[0.5,0.1,0.15,0.25]\n",
    "                      )\n",
    "clf.fit(X_train, y_train)\n",
    "predictions = clf.predict(X_test)\n",
    "print(classification_report(y_test,predictions))"
   ]
  },
  {
   "cell_type": "markdown",
   "metadata": {},
   "source": [
    "Se observa que dandole un mayor peso, al modelo que tuvo un mejor desempeño el rendimiento general mejora, lo que puede respaldar la veracidad de su prediccion"
   ]
  },
  {
   "cell_type": "code",
   "execution_count": null,
   "metadata": {},
   "outputs": [],
   "source": []
  }
 ],
 "metadata": {
  "hide_input": false,
  "kernelspec": {
   "display_name": "Python 3",
   "language": "python",
   "name": "python3"
  },
  "language_info": {
   "codemirror_mode": {
    "name": "ipython",
    "version": 3
   },
   "file_extension": ".py",
   "mimetype": "text/x-python",
   "name": "python",
   "nbconvert_exporter": "python",
   "pygments_lexer": "ipython3",
   "version": "3.6.8"
  }
 },
 "nbformat": 4,
 "nbformat_minor": 2
}
